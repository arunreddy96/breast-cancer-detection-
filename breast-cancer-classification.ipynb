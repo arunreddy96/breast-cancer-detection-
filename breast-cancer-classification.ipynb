{
 "cells": [
  {
   "cell_type": "markdown",
   "id": "alert-synthesis",
   "metadata": {
    "_cell_guid": "b1076dfc-b9ad-4769-8c92-a6c4dae69d19",
    "_uuid": "8f2839f25d086af736a60e9eeb907d3b93b6e0e5",
    "papermill": {
     "duration": 0.06277,
     "end_time": "2021-05-27T10:16:38.749712",
     "exception": false,
     "start_time": "2021-05-27T10:16:38.686942",
     "status": "completed"
    },
    "tags": []
   },
   "source": [
    "# Breast Cancer Classification"
   ]
  },
  {
   "cell_type": "markdown",
   "id": "advisory-approval",
   "metadata": {
    "papermill": {
     "duration": 0.062854,
     "end_time": "2021-05-27T10:16:38.874690",
     "exception": false,
     "start_time": "2021-05-27T10:16:38.811836",
     "status": "completed"
    },
    "tags": []
   },
   "source": [
    "## Attribute Information:\n",
    "\n",
    "-  ID number \n",
    "- Diagnosis (M = malignant, B = benign)\n",
    "\n",
    "### Ten real-valued features are computed for each cell nucleus:\n",
    "\n",
    "- radius (mean of distances from center to points on the perimeter)\n",
    "- texture (standard deviation of gray-scale values)\n",
    "- perimeter\n",
    "- area\n",
    "- smoothness (local variation in radius lengths)\n",
    "- compactness (perimeter^2 / area - 1.0)\n",
    "- concavity (severity of concave portions of the contour)\n",
    "- concave points (number of concave portions of the contour)\n",
    "- symmetry\n",
    "- fractal dimension (\"coastline approximation\" - 1)"
   ]
  },
  {
   "cell_type": "markdown",
   "id": "hollywood-nepal",
   "metadata": {
    "papermill": {
     "duration": 0.06093,
     "end_time": "2021-05-27T10:16:38.997898",
     "exception": false,
     "start_time": "2021-05-27T10:16:38.936968",
     "status": "completed"
    },
    "tags": []
   },
   "source": [
    "##  Importing libraries"
   ]
  },
  {
   "cell_type": "code",
   "execution_count": 5,
   "id": "determined-fundamental",
   "metadata": {
    "execution": {
     "iopub.execute_input": "2021-05-27T10:16:39.130854Z",
     "iopub.status.busy": "2021-05-27T10:16:39.128871Z",
     "iopub.status.idle": "2021-05-27T10:16:40.018462Z",
     "shell.execute_reply": "2021-05-27T10:16:40.017517Z"
    },
    "papermill": {
     "duration": 0.958883,
     "end_time": "2021-05-27T10:16:40.018651",
     "exception": false,
     "start_time": "2021-05-27T10:16:39.059768",
     "status": "completed"
    },
    "tags": []
   },
   "outputs": [],
   "source": [
    "# Importing libraries\n",
    "\n",
    "import pandas as pd\n",
    "import numpy as np\n",
    "import seaborn as sns\n",
    "import matplotlib.pyplot as plt\n",
    "#imp ort missingno as msno\n",
    "\n",
    "import warnings\n",
    "warnings.filterwarnings('ignore')\n",
    "\n",
    "\n",
    "plt.style.use('ggplot')"
   ]
  },
  {
   "cell_type": "code",
   "execution_count": 6,
   "id": "0321d0c5",
   "metadata": {},
   "outputs": [
    {
     "name": "stdout",
     "output_type": "stream",
     "text": [
      "Note: you may need to restart the kernel to use updated packages.\n"
     ]
    },
    {
     "name": "stderr",
     "output_type": "stream",
     "text": [
      "ERROR: Could not find a version that satisfies the requirement missingo (from versions: none)\n",
      "ERROR: No matching distribution found for missingo\n"
     ]
    }
   ],
   "source": [
    "pip install missingo"
   ]
  },
  {
   "cell_type": "markdown",
   "id": "apparent-convenience",
   "metadata": {
    "papermill": {
     "duration": 0.062617,
     "end_time": "2021-05-27T10:16:40.145173",
     "exception": false,
     "start_time": "2021-05-27T10:16:40.082556",
     "status": "completed"
    },
    "tags": []
   },
   "source": [
    "## Load the data"
   ]
  },
  {
   "cell_type": "code",
   "execution_count": 4,
   "id": "solved-vintage",
   "metadata": {
    "execution": {
     "iopub.execute_input": "2021-05-27T10:16:40.273145Z",
     "iopub.status.busy": "2021-05-27T10:16:40.272155Z",
     "iopub.status.idle": "2021-05-27T10:16:40.301670Z",
     "shell.execute_reply": "2021-05-27T10:16:40.300998Z"
    },
    "papermill": {
     "duration": 0.094155,
     "end_time": "2021-05-27T10:16:40.301817",
     "exception": false,
     "start_time": "2021-05-27T10:16:40.207662",
     "status": "completed"
    },
    "tags": []
   },
   "outputs": [
    {
     "ename": "FileNotFoundError",
     "evalue": "[Errno 2] No such file or directory: '../input/breast-cancer-wisconsin-data/data.csv'",
     "output_type": "error",
     "traceback": [
      "\u001b[1;31m---------------------------------------------------------------------------\u001b[0m",
      "\u001b[1;31mFileNotFoundError\u001b[0m                         Traceback (most recent call last)",
      "Input \u001b[1;32mIn [4]\u001b[0m, in \u001b[0;36m<cell line: 1>\u001b[1;34m()\u001b[0m\n\u001b[1;32m----> 1\u001b[0m df \u001b[38;5;241m=\u001b[39m \u001b[43mpd\u001b[49m\u001b[38;5;241;43m.\u001b[39;49m\u001b[43mread_csv\u001b[49m\u001b[43m(\u001b[49m\u001b[38;5;124;43m'\u001b[39;49m\u001b[38;5;124;43m../input/breast-cancer-wisconsin-data/data.csv\u001b[39;49m\u001b[38;5;124;43m'\u001b[39;49m\u001b[43m)\u001b[49m\n",
      "File \u001b[1;32m~\\anaconda3\\lib\\site-packages\\pandas\\util\\_decorators.py:311\u001b[0m, in \u001b[0;36mdeprecate_nonkeyword_arguments.<locals>.decorate.<locals>.wrapper\u001b[1;34m(*args, **kwargs)\u001b[0m\n\u001b[0;32m    305\u001b[0m \u001b[38;5;28;01mif\u001b[39;00m \u001b[38;5;28mlen\u001b[39m(args) \u001b[38;5;241m>\u001b[39m num_allow_args:\n\u001b[0;32m    306\u001b[0m     warnings\u001b[38;5;241m.\u001b[39mwarn(\n\u001b[0;32m    307\u001b[0m         msg\u001b[38;5;241m.\u001b[39mformat(arguments\u001b[38;5;241m=\u001b[39marguments),\n\u001b[0;32m    308\u001b[0m         \u001b[38;5;167;01mFutureWarning\u001b[39;00m,\n\u001b[0;32m    309\u001b[0m         stacklevel\u001b[38;5;241m=\u001b[39mstacklevel,\n\u001b[0;32m    310\u001b[0m     )\n\u001b[1;32m--> 311\u001b[0m \u001b[38;5;28;01mreturn\u001b[39;00m func(\u001b[38;5;241m*\u001b[39margs, \u001b[38;5;241m*\u001b[39m\u001b[38;5;241m*\u001b[39mkwargs)\n",
      "File \u001b[1;32m~\\anaconda3\\lib\\site-packages\\pandas\\io\\parsers\\readers.py:680\u001b[0m, in \u001b[0;36mread_csv\u001b[1;34m(filepath_or_buffer, sep, delimiter, header, names, index_col, usecols, squeeze, prefix, mangle_dupe_cols, dtype, engine, converters, true_values, false_values, skipinitialspace, skiprows, skipfooter, nrows, na_values, keep_default_na, na_filter, verbose, skip_blank_lines, parse_dates, infer_datetime_format, keep_date_col, date_parser, dayfirst, cache_dates, iterator, chunksize, compression, thousands, decimal, lineterminator, quotechar, quoting, doublequote, escapechar, comment, encoding, encoding_errors, dialect, error_bad_lines, warn_bad_lines, on_bad_lines, delim_whitespace, low_memory, memory_map, float_precision, storage_options)\u001b[0m\n\u001b[0;32m    665\u001b[0m kwds_defaults \u001b[38;5;241m=\u001b[39m _refine_defaults_read(\n\u001b[0;32m    666\u001b[0m     dialect,\n\u001b[0;32m    667\u001b[0m     delimiter,\n\u001b[1;32m   (...)\u001b[0m\n\u001b[0;32m    676\u001b[0m     defaults\u001b[38;5;241m=\u001b[39m{\u001b[38;5;124m\"\u001b[39m\u001b[38;5;124mdelimiter\u001b[39m\u001b[38;5;124m\"\u001b[39m: \u001b[38;5;124m\"\u001b[39m\u001b[38;5;124m,\u001b[39m\u001b[38;5;124m\"\u001b[39m},\n\u001b[0;32m    677\u001b[0m )\n\u001b[0;32m    678\u001b[0m kwds\u001b[38;5;241m.\u001b[39mupdate(kwds_defaults)\n\u001b[1;32m--> 680\u001b[0m \u001b[38;5;28;01mreturn\u001b[39;00m \u001b[43m_read\u001b[49m\u001b[43m(\u001b[49m\u001b[43mfilepath_or_buffer\u001b[49m\u001b[43m,\u001b[49m\u001b[43m \u001b[49m\u001b[43mkwds\u001b[49m\u001b[43m)\u001b[49m\n",
      "File \u001b[1;32m~\\anaconda3\\lib\\site-packages\\pandas\\io\\parsers\\readers.py:575\u001b[0m, in \u001b[0;36m_read\u001b[1;34m(filepath_or_buffer, kwds)\u001b[0m\n\u001b[0;32m    572\u001b[0m _validate_names(kwds\u001b[38;5;241m.\u001b[39mget(\u001b[38;5;124m\"\u001b[39m\u001b[38;5;124mnames\u001b[39m\u001b[38;5;124m\"\u001b[39m, \u001b[38;5;28;01mNone\u001b[39;00m))\n\u001b[0;32m    574\u001b[0m \u001b[38;5;66;03m# Create the parser.\u001b[39;00m\n\u001b[1;32m--> 575\u001b[0m parser \u001b[38;5;241m=\u001b[39m TextFileReader(filepath_or_buffer, \u001b[38;5;241m*\u001b[39m\u001b[38;5;241m*\u001b[39mkwds)\n\u001b[0;32m    577\u001b[0m \u001b[38;5;28;01mif\u001b[39;00m chunksize \u001b[38;5;129;01mor\u001b[39;00m iterator:\n\u001b[0;32m    578\u001b[0m     \u001b[38;5;28;01mreturn\u001b[39;00m parser\n",
      "File \u001b[1;32m~\\anaconda3\\lib\\site-packages\\pandas\\io\\parsers\\readers.py:933\u001b[0m, in \u001b[0;36mTextFileReader.__init__\u001b[1;34m(self, f, engine, **kwds)\u001b[0m\n\u001b[0;32m    930\u001b[0m     \u001b[38;5;28mself\u001b[39m\u001b[38;5;241m.\u001b[39moptions[\u001b[38;5;124m\"\u001b[39m\u001b[38;5;124mhas_index_names\u001b[39m\u001b[38;5;124m\"\u001b[39m] \u001b[38;5;241m=\u001b[39m kwds[\u001b[38;5;124m\"\u001b[39m\u001b[38;5;124mhas_index_names\u001b[39m\u001b[38;5;124m\"\u001b[39m]\n\u001b[0;32m    932\u001b[0m \u001b[38;5;28mself\u001b[39m\u001b[38;5;241m.\u001b[39mhandles: IOHandles \u001b[38;5;241m|\u001b[39m \u001b[38;5;28;01mNone\u001b[39;00m \u001b[38;5;241m=\u001b[39m \u001b[38;5;28;01mNone\u001b[39;00m\n\u001b[1;32m--> 933\u001b[0m \u001b[38;5;28mself\u001b[39m\u001b[38;5;241m.\u001b[39m_engine \u001b[38;5;241m=\u001b[39m \u001b[38;5;28;43mself\u001b[39;49m\u001b[38;5;241;43m.\u001b[39;49m\u001b[43m_make_engine\u001b[49m\u001b[43m(\u001b[49m\u001b[43mf\u001b[49m\u001b[43m,\u001b[49m\u001b[43m \u001b[49m\u001b[38;5;28;43mself\u001b[39;49m\u001b[38;5;241;43m.\u001b[39;49m\u001b[43mengine\u001b[49m\u001b[43m)\u001b[49m\n",
      "File \u001b[1;32m~\\anaconda3\\lib\\site-packages\\pandas\\io\\parsers\\readers.py:1217\u001b[0m, in \u001b[0;36mTextFileReader._make_engine\u001b[1;34m(self, f, engine)\u001b[0m\n\u001b[0;32m   1213\u001b[0m     mode \u001b[38;5;241m=\u001b[39m \u001b[38;5;124m\"\u001b[39m\u001b[38;5;124mrb\u001b[39m\u001b[38;5;124m\"\u001b[39m\n\u001b[0;32m   1214\u001b[0m \u001b[38;5;66;03m# error: No overload variant of \"get_handle\" matches argument types\u001b[39;00m\n\u001b[0;32m   1215\u001b[0m \u001b[38;5;66;03m# \"Union[str, PathLike[str], ReadCsvBuffer[bytes], ReadCsvBuffer[str]]\"\u001b[39;00m\n\u001b[0;32m   1216\u001b[0m \u001b[38;5;66;03m# , \"str\", \"bool\", \"Any\", \"Any\", \"Any\", \"Any\", \"Any\"\u001b[39;00m\n\u001b[1;32m-> 1217\u001b[0m \u001b[38;5;28mself\u001b[39m\u001b[38;5;241m.\u001b[39mhandles \u001b[38;5;241m=\u001b[39m \u001b[43mget_handle\u001b[49m\u001b[43m(\u001b[49m\u001b[43m  \u001b[49m\u001b[38;5;66;43;03m# type: ignore[call-overload]\u001b[39;49;00m\n\u001b[0;32m   1218\u001b[0m \u001b[43m    \u001b[49m\u001b[43mf\u001b[49m\u001b[43m,\u001b[49m\n\u001b[0;32m   1219\u001b[0m \u001b[43m    \u001b[49m\u001b[43mmode\u001b[49m\u001b[43m,\u001b[49m\n\u001b[0;32m   1220\u001b[0m \u001b[43m    \u001b[49m\u001b[43mencoding\u001b[49m\u001b[38;5;241;43m=\u001b[39;49m\u001b[38;5;28;43mself\u001b[39;49m\u001b[38;5;241;43m.\u001b[39;49m\u001b[43moptions\u001b[49m\u001b[38;5;241;43m.\u001b[39;49m\u001b[43mget\u001b[49m\u001b[43m(\u001b[49m\u001b[38;5;124;43m\"\u001b[39;49m\u001b[38;5;124;43mencoding\u001b[39;49m\u001b[38;5;124;43m\"\u001b[39;49m\u001b[43m,\u001b[49m\u001b[43m \u001b[49m\u001b[38;5;28;43;01mNone\u001b[39;49;00m\u001b[43m)\u001b[49m\u001b[43m,\u001b[49m\n\u001b[0;32m   1221\u001b[0m \u001b[43m    \u001b[49m\u001b[43mcompression\u001b[49m\u001b[38;5;241;43m=\u001b[39;49m\u001b[38;5;28;43mself\u001b[39;49m\u001b[38;5;241;43m.\u001b[39;49m\u001b[43moptions\u001b[49m\u001b[38;5;241;43m.\u001b[39;49m\u001b[43mget\u001b[49m\u001b[43m(\u001b[49m\u001b[38;5;124;43m\"\u001b[39;49m\u001b[38;5;124;43mcompression\u001b[39;49m\u001b[38;5;124;43m\"\u001b[39;49m\u001b[43m,\u001b[49m\u001b[43m \u001b[49m\u001b[38;5;28;43;01mNone\u001b[39;49;00m\u001b[43m)\u001b[49m\u001b[43m,\u001b[49m\n\u001b[0;32m   1222\u001b[0m \u001b[43m    \u001b[49m\u001b[43mmemory_map\u001b[49m\u001b[38;5;241;43m=\u001b[39;49m\u001b[38;5;28;43mself\u001b[39;49m\u001b[38;5;241;43m.\u001b[39;49m\u001b[43moptions\u001b[49m\u001b[38;5;241;43m.\u001b[39;49m\u001b[43mget\u001b[49m\u001b[43m(\u001b[49m\u001b[38;5;124;43m\"\u001b[39;49m\u001b[38;5;124;43mmemory_map\u001b[39;49m\u001b[38;5;124;43m\"\u001b[39;49m\u001b[43m,\u001b[49m\u001b[43m \u001b[49m\u001b[38;5;28;43;01mFalse\u001b[39;49;00m\u001b[43m)\u001b[49m\u001b[43m,\u001b[49m\n\u001b[0;32m   1223\u001b[0m \u001b[43m    \u001b[49m\u001b[43mis_text\u001b[49m\u001b[38;5;241;43m=\u001b[39;49m\u001b[43mis_text\u001b[49m\u001b[43m,\u001b[49m\n\u001b[0;32m   1224\u001b[0m \u001b[43m    \u001b[49m\u001b[43merrors\u001b[49m\u001b[38;5;241;43m=\u001b[39;49m\u001b[38;5;28;43mself\u001b[39;49m\u001b[38;5;241;43m.\u001b[39;49m\u001b[43moptions\u001b[49m\u001b[38;5;241;43m.\u001b[39;49m\u001b[43mget\u001b[49m\u001b[43m(\u001b[49m\u001b[38;5;124;43m\"\u001b[39;49m\u001b[38;5;124;43mencoding_errors\u001b[39;49m\u001b[38;5;124;43m\"\u001b[39;49m\u001b[43m,\u001b[49m\u001b[43m \u001b[49m\u001b[38;5;124;43m\"\u001b[39;49m\u001b[38;5;124;43mstrict\u001b[39;49m\u001b[38;5;124;43m\"\u001b[39;49m\u001b[43m)\u001b[49m\u001b[43m,\u001b[49m\n\u001b[0;32m   1225\u001b[0m \u001b[43m    \u001b[49m\u001b[43mstorage_options\u001b[49m\u001b[38;5;241;43m=\u001b[39;49m\u001b[38;5;28;43mself\u001b[39;49m\u001b[38;5;241;43m.\u001b[39;49m\u001b[43moptions\u001b[49m\u001b[38;5;241;43m.\u001b[39;49m\u001b[43mget\u001b[49m\u001b[43m(\u001b[49m\u001b[38;5;124;43m\"\u001b[39;49m\u001b[38;5;124;43mstorage_options\u001b[39;49m\u001b[38;5;124;43m\"\u001b[39;49m\u001b[43m,\u001b[49m\u001b[43m \u001b[49m\u001b[38;5;28;43;01mNone\u001b[39;49;00m\u001b[43m)\u001b[49m\u001b[43m,\u001b[49m\n\u001b[0;32m   1226\u001b[0m \u001b[43m\u001b[49m\u001b[43m)\u001b[49m\n\u001b[0;32m   1227\u001b[0m \u001b[38;5;28;01massert\u001b[39;00m \u001b[38;5;28mself\u001b[39m\u001b[38;5;241m.\u001b[39mhandles \u001b[38;5;129;01mis\u001b[39;00m \u001b[38;5;129;01mnot\u001b[39;00m \u001b[38;5;28;01mNone\u001b[39;00m\n\u001b[0;32m   1228\u001b[0m f \u001b[38;5;241m=\u001b[39m \u001b[38;5;28mself\u001b[39m\u001b[38;5;241m.\u001b[39mhandles\u001b[38;5;241m.\u001b[39mhandle\n",
      "File \u001b[1;32m~\\anaconda3\\lib\\site-packages\\pandas\\io\\common.py:789\u001b[0m, in \u001b[0;36mget_handle\u001b[1;34m(path_or_buf, mode, encoding, compression, memory_map, is_text, errors, storage_options)\u001b[0m\n\u001b[0;32m    784\u001b[0m \u001b[38;5;28;01melif\u001b[39;00m \u001b[38;5;28misinstance\u001b[39m(handle, \u001b[38;5;28mstr\u001b[39m):\n\u001b[0;32m    785\u001b[0m     \u001b[38;5;66;03m# Check whether the filename is to be opened in binary mode.\u001b[39;00m\n\u001b[0;32m    786\u001b[0m     \u001b[38;5;66;03m# Binary mode does not support 'encoding' and 'newline'.\u001b[39;00m\n\u001b[0;32m    787\u001b[0m     \u001b[38;5;28;01mif\u001b[39;00m ioargs\u001b[38;5;241m.\u001b[39mencoding \u001b[38;5;129;01mand\u001b[39;00m \u001b[38;5;124m\"\u001b[39m\u001b[38;5;124mb\u001b[39m\u001b[38;5;124m\"\u001b[39m \u001b[38;5;129;01mnot\u001b[39;00m \u001b[38;5;129;01min\u001b[39;00m ioargs\u001b[38;5;241m.\u001b[39mmode:\n\u001b[0;32m    788\u001b[0m         \u001b[38;5;66;03m# Encoding\u001b[39;00m\n\u001b[1;32m--> 789\u001b[0m         handle \u001b[38;5;241m=\u001b[39m \u001b[38;5;28;43mopen\u001b[39;49m\u001b[43m(\u001b[49m\n\u001b[0;32m    790\u001b[0m \u001b[43m            \u001b[49m\u001b[43mhandle\u001b[49m\u001b[43m,\u001b[49m\n\u001b[0;32m    791\u001b[0m \u001b[43m            \u001b[49m\u001b[43mioargs\u001b[49m\u001b[38;5;241;43m.\u001b[39;49m\u001b[43mmode\u001b[49m\u001b[43m,\u001b[49m\n\u001b[0;32m    792\u001b[0m \u001b[43m            \u001b[49m\u001b[43mencoding\u001b[49m\u001b[38;5;241;43m=\u001b[39;49m\u001b[43mioargs\u001b[49m\u001b[38;5;241;43m.\u001b[39;49m\u001b[43mencoding\u001b[49m\u001b[43m,\u001b[49m\n\u001b[0;32m    793\u001b[0m \u001b[43m            \u001b[49m\u001b[43merrors\u001b[49m\u001b[38;5;241;43m=\u001b[39;49m\u001b[43merrors\u001b[49m\u001b[43m,\u001b[49m\n\u001b[0;32m    794\u001b[0m \u001b[43m            \u001b[49m\u001b[43mnewline\u001b[49m\u001b[38;5;241;43m=\u001b[39;49m\u001b[38;5;124;43m\"\u001b[39;49m\u001b[38;5;124;43m\"\u001b[39;49m\u001b[43m,\u001b[49m\n\u001b[0;32m    795\u001b[0m \u001b[43m        \u001b[49m\u001b[43m)\u001b[49m\n\u001b[0;32m    796\u001b[0m     \u001b[38;5;28;01melse\u001b[39;00m:\n\u001b[0;32m    797\u001b[0m         \u001b[38;5;66;03m# Binary mode\u001b[39;00m\n\u001b[0;32m    798\u001b[0m         handle \u001b[38;5;241m=\u001b[39m \u001b[38;5;28mopen\u001b[39m(handle, ioargs\u001b[38;5;241m.\u001b[39mmode)\n",
      "\u001b[1;31mFileNotFoundError\u001b[0m: [Errno 2] No such file or directory: '../input/breast-cancer-wisconsin-data/data.csv'"
     ]
    }
   ],
   "source": [
    "df = pd.read_csv('../input/breast-cancer-wisconsin-data/data.csv')"
   ]
  },
  {
   "cell_type": "code",
   "execution_count": 7,
   "id": "theoretical-receiver",
   "metadata": {
    "execution": {
     "iopub.execute_input": "2021-05-27T10:16:40.433077Z",
     "iopub.status.busy": "2021-05-27T10:16:40.432127Z",
     "iopub.status.idle": "2021-05-27T10:16:40.480615Z",
     "shell.execute_reply": "2021-05-27T10:16:40.481055Z"
    },
    "papermill": {
     "duration": 0.11542,
     "end_time": "2021-05-27T10:16:40.481256",
     "exception": false,
     "start_time": "2021-05-27T10:16:40.365836",
     "status": "completed"
    },
    "tags": []
   },
   "outputs": [
    {
     "ename": "NameError",
     "evalue": "name 'df' is not defined",
     "output_type": "error",
     "traceback": [
      "\u001b[1;31m---------------------------------------------------------------------------\u001b[0m",
      "\u001b[1;31mNameError\u001b[0m                                 Traceback (most recent call last)",
      "Input \u001b[1;32mIn [7]\u001b[0m, in \u001b[0;36m<cell line: 1>\u001b[1;34m()\u001b[0m\n\u001b[1;32m----> 1\u001b[0m \u001b[43mdf\u001b[49m\u001b[38;5;241m.\u001b[39mhead()\n",
      "\u001b[1;31mNameError\u001b[0m: name 'df' is not defined"
     ]
    }
   ],
   "source": [
    "df.head()"
   ]
  },
  {
   "cell_type": "markdown",
   "id": "upset-oxygen",
   "metadata": {
    "papermill": {
     "duration": 0.063666,
     "end_time": "2021-05-27T10:16:40.608416",
     "exception": false,
     "start_time": "2021-05-27T10:16:40.544750",
     "status": "completed"
    },
    "tags": []
   },
   "source": [
    "## Data Preprocessing"
   ]
  },
  {
   "cell_type": "code",
   "execution_count": null,
   "id": "boolean-today",
   "metadata": {
    "execution": {
     "iopub.execute_input": "2021-05-27T10:16:40.738362Z",
     "iopub.status.busy": "2021-05-27T10:16:40.737379Z",
     "iopub.status.idle": "2021-05-27T10:16:40.745822Z",
     "shell.execute_reply": "2021-05-27T10:16:40.745246Z"
    },
    "papermill": {
     "duration": 0.074291,
     "end_time": "2021-05-27T10:16:40.745967",
     "exception": false,
     "start_time": "2021-05-27T10:16:40.671676",
     "status": "completed"
    },
    "tags": []
   },
   "outputs": [],
   "source": [
    "df.drop(['id', 'Unnamed: 32'], axis = 1, inplace = True)"
   ]
  },
  {
   "cell_type": "code",
   "execution_count": null,
   "id": "married-benefit",
   "metadata": {
    "execution": {
     "iopub.execute_input": "2021-05-27T10:16:40.877671Z",
     "iopub.status.busy": "2021-05-27T10:16:40.876647Z",
     "iopub.status.idle": "2021-05-27T10:16:40.884310Z",
     "shell.execute_reply": "2021-05-27T10:16:40.884874Z"
    },
    "papermill": {
     "duration": 0.075319,
     "end_time": "2021-05-27T10:16:40.885048",
     "exception": false,
     "start_time": "2021-05-27T10:16:40.809729",
     "status": "completed"
    },
    "tags": []
   },
   "outputs": [],
   "source": [
    "df.diagnosis.unique()"
   ]
  },
  {
   "cell_type": "code",
   "execution_count": null,
   "id": "danish-nigeria",
   "metadata": {
    "execution": {
     "iopub.execute_input": "2021-05-27T10:16:41.014538Z",
     "iopub.status.busy": "2021-05-27T10:16:41.013920Z",
     "iopub.status.idle": "2021-05-27T10:16:41.019621Z",
     "shell.execute_reply": "2021-05-27T10:16:41.020158Z"
    },
    "papermill": {
     "duration": 0.072389,
     "end_time": "2021-05-27T10:16:41.020354",
     "exception": false,
     "start_time": "2021-05-27T10:16:40.947965",
     "status": "completed"
    },
    "tags": []
   },
   "outputs": [],
   "source": [
    "df['diagnosis'] = df['diagnosis'].apply(lambda val: 1 if val == 'M' else 0)"
   ]
  },
  {
   "cell_type": "code",
   "execution_count": null,
   "id": "fancy-movie",
   "metadata": {
    "execution": {
     "iopub.execute_input": "2021-05-27T10:16:41.149309Z",
     "iopub.status.busy": "2021-05-27T10:16:41.148699Z",
     "iopub.status.idle": "2021-05-27T10:16:41.176605Z",
     "shell.execute_reply": "2021-05-27T10:16:41.177133Z"
    },
    "papermill": {
     "duration": 0.093276,
     "end_time": "2021-05-27T10:16:41.177327",
     "exception": false,
     "start_time": "2021-05-27T10:16:41.084051",
     "status": "completed"
    },
    "tags": []
   },
   "outputs": [],
   "source": [
    "df.head()"
   ]
  },
  {
   "cell_type": "code",
   "execution_count": null,
   "id": "through-animal",
   "metadata": {
    "execution": {
     "iopub.execute_input": "2021-05-27T10:16:41.308113Z",
     "iopub.status.busy": "2021-05-27T10:16:41.307469Z",
     "iopub.status.idle": "2021-05-27T10:16:41.403232Z",
     "shell.execute_reply": "2021-05-27T10:16:41.403812Z"
    },
    "papermill": {
     "duration": 0.162512,
     "end_time": "2021-05-27T10:16:41.403980",
     "exception": false,
     "start_time": "2021-05-27T10:16:41.241468",
     "status": "completed"
    },
    "tags": []
   },
   "outputs": [],
   "source": [
    "df.describe()"
   ]
  },
  {
   "cell_type": "code",
   "execution_count": null,
   "id": "manufactured-dryer",
   "metadata": {
    "execution": {
     "iopub.execute_input": "2021-05-27T10:16:41.538987Z",
     "iopub.status.busy": "2021-05-27T10:16:41.538296Z",
     "iopub.status.idle": "2021-05-27T10:16:41.556884Z",
     "shell.execute_reply": "2021-05-27T10:16:41.558451Z"
    },
    "papermill": {
     "duration": 0.088942,
     "end_time": "2021-05-27T10:16:41.558731",
     "exception": false,
     "start_time": "2021-05-27T10:16:41.469789",
     "status": "completed"
    },
    "tags": []
   },
   "outputs": [],
   "source": [
    "df.info()"
   ]
  },
  {
   "cell_type": "code",
   "execution_count": null,
   "id": "metric-calvin",
   "metadata": {
    "execution": {
     "iopub.execute_input": "2021-05-27T10:16:41.704840Z",
     "iopub.status.busy": "2021-05-27T10:16:41.703952Z",
     "iopub.status.idle": "2021-05-27T10:16:41.707617Z",
     "shell.execute_reply": "2021-05-27T10:16:41.708094Z"
    },
    "papermill": {
     "duration": 0.080262,
     "end_time": "2021-05-27T10:16:41.708301",
     "exception": false,
     "start_time": "2021-05-27T10:16:41.628039",
     "status": "completed"
    },
    "tags": []
   },
   "outputs": [],
   "source": [
    "# checking for null values\n",
    "\n",
    "df.isna().sum()"
   ]
  },
  {
   "cell_type": "code",
   "execution_count": null,
   "id": "correct-affiliate",
   "metadata": {
    "execution": {
     "iopub.execute_input": "2021-05-27T10:16:41.846136Z",
     "iopub.status.busy": "2021-05-27T10:16:41.845165Z",
     "iopub.status.idle": "2021-05-27T10:16:44.922977Z",
     "shell.execute_reply": "2021-05-27T10:16:44.923537Z"
    },
    "papermill": {
     "duration": 3.149089,
     "end_time": "2021-05-27T10:16:44.923717",
     "exception": false,
     "start_time": "2021-05-27T10:16:41.774628",
     "status": "completed"
    },
    "tags": []
   },
   "outputs": [],
   "source": [
    "# visualizing null values\n",
    "\n",
    "msno.bar(df)"
   ]
  },
  {
   "cell_type": "markdown",
   "id": "therapeutic-beverage",
   "metadata": {
    "papermill": {
     "duration": 0.070509,
     "end_time": "2021-05-27T10:16:45.065250",
     "exception": false,
     "start_time": "2021-05-27T10:16:44.994741",
     "status": "completed"
    },
    "tags": []
   },
   "source": [
    "#### There are no missing values in the data."
   ]
  },
  {
   "cell_type": "markdown",
   "id": "innovative-script",
   "metadata": {
    "papermill": {
     "duration": 0.069493,
     "end_time": "2021-05-27T10:16:45.206865",
     "exception": false,
     "start_time": "2021-05-27T10:16:45.137372",
     "status": "completed"
    },
    "tags": []
   },
   "source": [
    "## Exploratory Data Analysis (EDA)"
   ]
  },
  {
   "cell_type": "code",
   "execution_count": 2,
   "id": "coated-temple",
   "metadata": {
    "execution": {
     "iopub.execute_input": "2021-05-27T10:16:45.376784Z",
     "iopub.status.busy": "2021-05-27T10:16:45.372070Z",
     "iopub.status.idle": "2021-05-27T10:16:52.123480Z",
     "shell.execute_reply": "2021-05-27T10:16:52.123958Z"
    },
    "papermill": {
     "duration": 6.847107,
     "end_time": "2021-05-27T10:16:52.124124",
     "exception": false,
     "start_time": "2021-05-27T10:16:45.277017",
     "status": "completed"
    },
    "tags": []
   },
   "outputs": [
    {
     "ename": "NameError",
     "evalue": "name 'df' is not defined",
     "output_type": "error",
     "traceback": [
      "\u001b[1;31m---------------------------------------------------------------------------\u001b[0m",
      "\u001b[1;31mNameError\u001b[0m                                 Traceback (most recent call last)",
      "Input \u001b[1;32mIn [2]\u001b[0m, in \u001b[0;36m<cell line: 4>\u001b[1;34m()\u001b[0m\n\u001b[0;32m      1\u001b[0m plt\u001b[38;5;241m.\u001b[39mfigure(figsize \u001b[38;5;241m=\u001b[39m (\u001b[38;5;241m20\u001b[39m, \u001b[38;5;241m15\u001b[39m))\n\u001b[0;32m      2\u001b[0m plotnumber \u001b[38;5;241m=\u001b[39m \u001b[38;5;241m1\u001b[39m\n\u001b[1;32m----> 4\u001b[0m \u001b[38;5;28;01mfor\u001b[39;00m column \u001b[38;5;129;01min\u001b[39;00m \u001b[43mdf\u001b[49m:\n\u001b[0;32m      5\u001b[0m     \u001b[38;5;28;01mif\u001b[39;00m plotnumber \u001b[38;5;241m<\u001b[39m\u001b[38;5;241m=\u001b[39m \u001b[38;5;241m30\u001b[39m:\n\u001b[0;32m      6\u001b[0m         ax \u001b[38;5;241m=\u001b[39m plt\u001b[38;5;241m.\u001b[39msubplot(\u001b[38;5;241m5\u001b[39m, \u001b[38;5;241m6\u001b[39m, plotnumber)\n",
      "\u001b[1;31mNameError\u001b[0m: name 'df' is not defined"
     ]
    },
    {
     "data": {
      "text/plain": [
       "<Figure size 1440x1080 with 0 Axes>"
      ]
     },
     "metadata": {},
     "output_type": "display_data"
    }
   ],
   "source": [
    "plt.figure(figsize = (20, 15))\n",
    "plotnumber = 1\n",
    "\n",
    "for column in df:\n",
    "    if plotnumber <= 30:\n",
    "        ax = plt.subplot(5, 6, plotnumber)\n",
    "        sns.distplot(df[column])\n",
    "        plt.xlabel(column)\n",
    "        \n",
    "    plotnumber += 1\n",
    "\n",
    "plt.tight_layout()\n",
    "plt.show()"
   ]
  },
  {
   "cell_type": "code",
   "execution_count": null,
   "id": "dynamic-alabama",
   "metadata": {
    "execution": {
     "iopub.execute_input": "2021-05-27T10:16:52.282939Z",
     "iopub.status.busy": "2021-05-27T10:16:52.282166Z",
     "iopub.status.idle": "2021-05-27T10:16:55.123736Z",
     "shell.execute_reply": "2021-05-27T10:16:55.124255Z"
    },
    "papermill": {
     "duration": 2.922896,
     "end_time": "2021-05-27T10:16:55.124435",
     "exception": false,
     "start_time": "2021-05-27T10:16:52.201539",
     "status": "completed"
    },
    "tags": []
   },
   "outputs": [],
   "source": [
    "# heatmap \n",
    "\n",
    "plt.figure(figsize = (20, 12))\n",
    "\n",
    "corr = df.corr()\n",
    "mask = np.triu(np.ones_like(corr, dtype = bool))\n",
    "\n",
    "sns.heatmap(corr, mask = mask, linewidths = 1, annot = True, fmt = \".2f\")\n",
    "plt.show()"
   ]
  },
  {
   "cell_type": "markdown",
   "id": "sought-neighborhood",
   "metadata": {
    "papermill": {
     "duration": 0.086494,
     "end_time": "2021-05-27T10:16:55.298605",
     "exception": false,
     "start_time": "2021-05-27T10:16:55.212111",
     "status": "completed"
    },
    "tags": []
   },
   "source": [
    "### We can see that there are many columns which are very highly correlated which causes multicollinearity so we have to remove highly correlated features."
   ]
  },
  {
   "cell_type": "code",
   "execution_count": null,
   "id": "serial-anger",
   "metadata": {
    "execution": {
     "iopub.execute_input": "2021-05-27T10:16:55.479486Z",
     "iopub.status.busy": "2021-05-27T10:16:55.478586Z",
     "iopub.status.idle": "2021-05-27T10:16:55.496734Z",
     "shell.execute_reply": "2021-05-27T10:16:55.495676Z"
    },
    "papermill": {
     "duration": 0.111743,
     "end_time": "2021-05-27T10:16:55.497126",
     "exception": false,
     "start_time": "2021-05-27T10:16:55.385383",
     "status": "completed"
    },
    "tags": []
   },
   "outputs": [],
   "source": [
    "# removing highly correlated features\n",
    "\n",
    "corr_matrix = df.corr().abs() \n",
    "\n",
    "mask = np.triu(np.ones_like(corr_matrix, dtype = bool))\n",
    "tri_df = corr_matrix.mask(mask)\n",
    "\n",
    "to_drop = [x for x in tri_df.columns if any(tri_df[x] > 0.92)]\n",
    "\n",
    "df = df.drop(to_drop, axis = 1)\n",
    "\n",
    "print(f\"The reduced dataframe has {df.shape[1]} columns.\")"
   ]
  },
  {
   "cell_type": "code",
   "execution_count": null,
   "id": "daily-duncan",
   "metadata": {
    "execution": {
     "iopub.execute_input": "2021-05-27T10:16:55.679061Z",
     "iopub.status.busy": "2021-05-27T10:16:55.678033Z",
     "iopub.status.idle": "2021-05-27T10:16:55.680497Z",
     "shell.execute_reply": "2021-05-27T10:16:55.681022Z"
    },
    "papermill": {
     "duration": 0.095818,
     "end_time": "2021-05-27T10:16:55.681192",
     "exception": false,
     "start_time": "2021-05-27T10:16:55.585374",
     "status": "completed"
    },
    "tags": []
   },
   "outputs": [],
   "source": [
    "# creating features and label \n",
    "\n",
    "X = df.drop('diagnosis', axis = 1)\n",
    "y = df['diagnosis']"
   ]
  },
  {
   "cell_type": "code",
   "execution_count": null,
   "id": "psychological-milton",
   "metadata": {
    "execution": {
     "iopub.execute_input": "2021-05-27T10:16:55.859900Z",
     "iopub.status.busy": "2021-05-27T10:16:55.858873Z",
     "iopub.status.idle": "2021-05-27T10:16:56.096975Z",
     "shell.execute_reply": "2021-05-27T10:16:56.096294Z"
    },
    "papermill": {
     "duration": 0.328449,
     "end_time": "2021-05-27T10:16:56.097185",
     "exception": false,
     "start_time": "2021-05-27T10:16:55.768736",
     "status": "completed"
    },
    "tags": []
   },
   "outputs": [],
   "source": [
    "# splitting data into training and test set\n",
    "\n",
    "from sklearn.model_selection import train_test_split\n",
    "\n",
    "X_train, X_test, y_train, y_test = train_test_split(X, y, test_size = 0.30, random_state = 0)"
   ]
  },
  {
   "cell_type": "code",
   "execution_count": null,
   "id": "intense-harrison",
   "metadata": {
    "execution": {
     "iopub.execute_input": "2021-05-27T10:16:56.280057Z",
     "iopub.status.busy": "2021-05-27T10:16:56.279383Z",
     "iopub.status.idle": "2021-05-27T10:16:56.287654Z",
     "shell.execute_reply": "2021-05-27T10:16:56.287043Z"
    },
    "papermill": {
     "duration": 0.103107,
     "end_time": "2021-05-27T10:16:56.287800",
     "exception": false,
     "start_time": "2021-05-27T10:16:56.184693",
     "status": "completed"
    },
    "tags": []
   },
   "outputs": [],
   "source": [
    "# scaling data\n",
    "\n",
    "from sklearn.preprocessing import StandardScaler\n",
    "\n",
    "scaler = StandardScaler()\n",
    "\n",
    "X_train = scaler.fit_transform(X_train)\n",
    "X_test = scaler.transform(X_test)"
   ]
  },
  {
   "cell_type": "markdown",
   "id": "saving-buffalo",
   "metadata": {
    "papermill": {
     "duration": 0.090531,
     "end_time": "2021-05-27T10:16:56.465365",
     "exception": false,
     "start_time": "2021-05-27T10:16:56.374834",
     "status": "completed"
    },
    "tags": []
   },
   "source": [
    "# Logistic Regression"
   ]
  },
  {
   "cell_type": "code",
   "execution_count": null,
   "id": "transsexual-graphic",
   "metadata": {
    "execution": {
     "iopub.execute_input": "2021-05-27T10:16:56.646052Z",
     "iopub.status.busy": "2021-05-27T10:16:56.645392Z",
     "iopub.status.idle": "2021-05-27T10:16:56.782783Z",
     "shell.execute_reply": "2021-05-27T10:16:56.782126Z"
    },
    "papermill": {
     "duration": 0.230062,
     "end_time": "2021-05-27T10:16:56.782933",
     "exception": false,
     "start_time": "2021-05-27T10:16:56.552871",
     "status": "completed"
    },
    "tags": []
   },
   "outputs": [],
   "source": [
    "# fitting data to model\n",
    "\n",
    "from sklearn.linear_model import LogisticRegression\n",
    "\n",
    "log_reg = LogisticRegression()\n",
    "log_reg.fit(X_train, y_train)"
   ]
  },
  {
   "cell_type": "code",
   "execution_count": null,
   "id": "empirical-edward",
   "metadata": {
    "execution": {
     "iopub.execute_input": "2021-05-27T10:16:56.966481Z",
     "iopub.status.busy": "2021-05-27T10:16:56.965696Z",
     "iopub.status.idle": "2021-05-27T10:16:56.968334Z",
     "shell.execute_reply": "2021-05-27T10:16:56.968853Z"
    },
    "papermill": {
     "duration": 0.096415,
     "end_time": "2021-05-27T10:16:56.969030",
     "exception": false,
     "start_time": "2021-05-27T10:16:56.872615",
     "status": "completed"
    },
    "tags": []
   },
   "outputs": [],
   "source": [
    "# model predictions\n",
    "\n",
    "y_pred = log_reg.predict(X_test)"
   ]
  },
  {
   "cell_type": "code",
   "execution_count": null,
   "id": "selective-serbia",
   "metadata": {
    "execution": {
     "iopub.execute_input": "2021-05-27T10:16:57.157632Z",
     "iopub.status.busy": "2021-05-27T10:16:57.156604Z",
     "iopub.status.idle": "2021-05-27T10:16:57.162393Z",
     "shell.execute_reply": "2021-05-27T10:16:57.161712Z"
    },
    "papermill": {
     "duration": 0.102337,
     "end_time": "2021-05-27T10:16:57.162538",
     "exception": false,
     "start_time": "2021-05-27T10:16:57.060201",
     "status": "completed"
    },
    "tags": []
   },
   "outputs": [],
   "source": [
    "# accuracy score\n",
    "\n",
    "from sklearn.metrics import accuracy_score, confusion_matrix, classification_report\n",
    "\n",
    "print(accuracy_score(y_train, log_reg.predict(X_train)))\n",
    "\n",
    "log_reg_acc = accuracy_score(y_test, log_reg.predict(X_test))\n",
    "print(log_reg_acc)"
   ]
  },
  {
   "cell_type": "code",
   "execution_count": null,
   "id": "narrow-paradise",
   "metadata": {
    "execution": {
     "iopub.execute_input": "2021-05-27T10:16:57.373391Z",
     "iopub.status.busy": "2021-05-27T10:16:57.372615Z",
     "iopub.status.idle": "2021-05-27T10:16:57.376163Z",
     "shell.execute_reply": "2021-05-27T10:16:57.375556Z"
    },
    "papermill": {
     "duration": 0.124802,
     "end_time": "2021-05-27T10:16:57.376325",
     "exception": false,
     "start_time": "2021-05-27T10:16:57.251523",
     "status": "completed"
    },
    "tags": []
   },
   "outputs": [],
   "source": [
    "# confusion matrix\n",
    "\n",
    "print(confusion_matrix(y_test, y_pred))"
   ]
  },
  {
   "cell_type": "code",
   "execution_count": null,
   "id": "superb-humor",
   "metadata": {
    "execution": {
     "iopub.execute_input": "2021-05-27T10:16:57.560233Z",
     "iopub.status.busy": "2021-05-27T10:16:57.559563Z",
     "iopub.status.idle": "2021-05-27T10:16:57.568606Z",
     "shell.execute_reply": "2021-05-27T10:16:57.569602Z"
    },
    "papermill": {
     "duration": 0.105216,
     "end_time": "2021-05-27T10:16:57.569914",
     "exception": false,
     "start_time": "2021-05-27T10:16:57.464698",
     "status": "completed"
    },
    "tags": []
   },
   "outputs": [],
   "source": [
    "# classification report\n",
    "\n",
    "print(classification_report(y_test, y_pred))"
   ]
  },
  {
   "cell_type": "markdown",
   "id": "monetary-combination",
   "metadata": {
    "papermill": {
     "duration": 0.090046,
     "end_time": "2021-05-27T10:16:57.750449",
     "exception": false,
     "start_time": "2021-05-27T10:16:57.660403",
     "status": "completed"
    },
    "tags": []
   },
   "source": [
    "# K Neighbors Classifier (KNN)"
   ]
  },
  {
   "cell_type": "code",
   "execution_count": null,
   "id": "desperate-highlight",
   "metadata": {
    "execution": {
     "iopub.execute_input": "2021-05-27T10:16:57.936374Z",
     "iopub.status.busy": "2021-05-27T10:16:57.935626Z",
     "iopub.status.idle": "2021-05-27T10:16:58.026382Z",
     "shell.execute_reply": "2021-05-27T10:16:58.025388Z"
    },
    "papermill": {
     "duration": 0.186861,
     "end_time": "2021-05-27T10:16:58.026543",
     "exception": false,
     "start_time": "2021-05-27T10:16:57.839682",
     "status": "completed"
    },
    "tags": []
   },
   "outputs": [],
   "source": [
    "from sklearn.neighbors import KNeighborsClassifier\n",
    "\n",
    "knn = KNeighborsClassifier()\n",
    "knn.fit(X_train, y_train)"
   ]
  },
  {
   "cell_type": "code",
   "execution_count": null,
   "id": "aerial-schedule",
   "metadata": {
    "execution": {
     "iopub.execute_input": "2021-05-27T10:16:58.213683Z",
     "iopub.status.busy": "2021-05-27T10:16:58.212960Z",
     "iopub.status.idle": "2021-05-27T10:16:58.237446Z",
     "shell.execute_reply": "2021-05-27T10:16:58.237999Z"
    },
    "papermill": {
     "duration": 0.120555,
     "end_time": "2021-05-27T10:16:58.238174",
     "exception": false,
     "start_time": "2021-05-27T10:16:58.117619",
     "status": "completed"
    },
    "tags": []
   },
   "outputs": [],
   "source": [
    "# model predictions \n",
    "\n",
    "y_pred = knn.predict(X_test)"
   ]
  },
  {
   "cell_type": "code",
   "execution_count": null,
   "id": "russian-wells",
   "metadata": {
    "execution": {
     "iopub.execute_input": "2021-05-27T10:16:58.473834Z",
     "iopub.status.busy": "2021-05-27T10:16:58.472753Z",
     "iopub.status.idle": "2021-05-27T10:16:58.524297Z",
     "shell.execute_reply": "2021-05-27T10:16:58.525161Z"
    },
    "papermill": {
     "duration": 0.148333,
     "end_time": "2021-05-27T10:16:58.525448",
     "exception": false,
     "start_time": "2021-05-27T10:16:58.377115",
     "status": "completed"
    },
    "tags": []
   },
   "outputs": [],
   "source": [
    "# accuracy score\n",
    "\n",
    "print(accuracy_score(y_train, knn.predict(X_train)))\n",
    "\n",
    "knn_acc = accuracy_score(y_test, knn.predict(X_test))\n",
    "print(knn_acc)"
   ]
  },
  {
   "cell_type": "code",
   "execution_count": null,
   "id": "three-better",
   "metadata": {
    "execution": {
     "iopub.execute_input": "2021-05-27T10:16:58.758458Z",
     "iopub.status.busy": "2021-05-27T10:16:58.757816Z",
     "iopub.status.idle": "2021-05-27T10:16:58.761726Z",
     "shell.execute_reply": "2021-05-27T10:16:58.760923Z"
    },
    "papermill": {
     "duration": 0.100062,
     "end_time": "2021-05-27T10:16:58.761914",
     "exception": false,
     "start_time": "2021-05-27T10:16:58.661852",
     "status": "completed"
    },
    "tags": []
   },
   "outputs": [],
   "source": [
    "# confusion matrix\n",
    "\n",
    "print(confusion_matrix(y_test, y_pred))"
   ]
  },
  {
   "cell_type": "code",
   "execution_count": null,
   "id": "alpine-contract",
   "metadata": {
    "execution": {
     "iopub.execute_input": "2021-05-27T10:16:58.949113Z",
     "iopub.status.busy": "2021-05-27T10:16:58.948032Z",
     "iopub.status.idle": "2021-05-27T10:16:58.957706Z",
     "shell.execute_reply": "2021-05-27T10:16:58.958457Z"
    },
    "papermill": {
     "duration": 0.103799,
     "end_time": "2021-05-27T10:16:58.958690",
     "exception": false,
     "start_time": "2021-05-27T10:16:58.854891",
     "status": "completed"
    },
    "tags": []
   },
   "outputs": [],
   "source": [
    "# classification report\n",
    "\n",
    "print(classification_report(y_test, y_pred))"
   ]
  },
  {
   "cell_type": "markdown",
   "id": "monthly-stage",
   "metadata": {
    "papermill": {
     "duration": 0.092339,
     "end_time": "2021-05-27T10:16:59.143254",
     "exception": false,
     "start_time": "2021-05-27T10:16:59.050915",
     "status": "completed"
    },
    "tags": []
   },
   "source": [
    "# Support Vector Classifier (SVC)"
   ]
  },
  {
   "cell_type": "code",
   "execution_count": null,
   "id": "revised-boating",
   "metadata": {
    "execution": {
     "iopub.execute_input": "2021-05-27T10:16:59.329521Z",
     "iopub.status.busy": "2021-05-27T10:16:59.328873Z",
     "iopub.status.idle": "2021-05-27T10:17:00.485864Z",
     "shell.execute_reply": "2021-05-27T10:17:00.484956Z"
    },
    "papermill": {
     "duration": 1.250571,
     "end_time": "2021-05-27T10:17:00.486080",
     "exception": false,
     "start_time": "2021-05-27T10:16:59.235509",
     "status": "completed"
    },
    "tags": []
   },
   "outputs": [],
   "source": [
    "from sklearn.svm import SVC\n",
    "from sklearn.model_selection import GridSearchCV\n",
    "\n",
    "svc = SVC()\n",
    "parameters = {\n",
    "    'gamma' : [0.0001, 0.001, 0.01, 0.1],\n",
    "    'C' : [0.01, 0.05, 0.5, 0.1, 1, 10, 15, 20]\n",
    "}\n",
    "\n",
    "grid_search = GridSearchCV(svc, parameters)\n",
    "grid_search.fit(X_train, y_train)"
   ]
  },
  {
   "cell_type": "code",
   "execution_count": null,
   "id": "received-melbourne",
   "metadata": {
    "execution": {
     "iopub.execute_input": "2021-05-27T10:17:00.701879Z",
     "iopub.status.busy": "2021-05-27T10:17:00.700857Z",
     "iopub.status.idle": "2021-05-27T10:17:00.705163Z",
     "shell.execute_reply": "2021-05-27T10:17:00.704632Z"
    },
    "papermill": {
     "duration": 0.101003,
     "end_time": "2021-05-27T10:17:00.705321",
     "exception": false,
     "start_time": "2021-05-27T10:17:00.604318",
     "status": "completed"
    },
    "tags": []
   },
   "outputs": [],
   "source": [
    "# best parameters\n",
    "\n",
    "grid_search.best_params_"
   ]
  },
  {
   "cell_type": "code",
   "execution_count": null,
   "id": "driving-medicare",
   "metadata": {
    "execution": {
     "iopub.execute_input": "2021-05-27T10:17:00.897998Z",
     "iopub.status.busy": "2021-05-27T10:17:00.897206Z",
     "iopub.status.idle": "2021-05-27T10:17:00.901126Z",
     "shell.execute_reply": "2021-05-27T10:17:00.900574Z"
    },
    "papermill": {
     "duration": 0.102484,
     "end_time": "2021-05-27T10:17:00.901288",
     "exception": false,
     "start_time": "2021-05-27T10:17:00.798804",
     "status": "completed"
    },
    "tags": []
   },
   "outputs": [],
   "source": [
    "# best accuracy \n",
    "\n",
    "grid_search.best_score_"
   ]
  },
  {
   "cell_type": "code",
   "execution_count": null,
   "id": "appreciated-witch",
   "metadata": {
    "execution": {
     "iopub.execute_input": "2021-05-27T10:17:01.094322Z",
     "iopub.status.busy": "2021-05-27T10:17:01.093609Z",
     "iopub.status.idle": "2021-05-27T10:17:01.102117Z",
     "shell.execute_reply": "2021-05-27T10:17:01.101576Z"
    },
    "papermill": {
     "duration": 0.107715,
     "end_time": "2021-05-27T10:17:01.102281",
     "exception": false,
     "start_time": "2021-05-27T10:17:00.994566",
     "status": "completed"
    },
    "tags": []
   },
   "outputs": [],
   "source": [
    "svc = SVC(C = 10, gamma = 0.01)\n",
    "svc.fit(X_train, y_train)"
   ]
  },
  {
   "cell_type": "code",
   "execution_count": null,
   "id": "pressed-liverpool",
   "metadata": {
    "execution": {
     "iopub.execute_input": "2021-05-27T10:17:01.294613Z",
     "iopub.status.busy": "2021-05-27T10:17:01.293699Z",
     "iopub.status.idle": "2021-05-27T10:17:01.298056Z",
     "shell.execute_reply": "2021-05-27T10:17:01.297548Z"
    },
    "papermill": {
     "duration": 0.101973,
     "end_time": "2021-05-27T10:17:01.298197",
     "exception": false,
     "start_time": "2021-05-27T10:17:01.196224",
     "status": "completed"
    },
    "tags": []
   },
   "outputs": [],
   "source": [
    "# model predictions \n",
    "\n",
    "y_pred = svc.predict(X_test)"
   ]
  },
  {
   "cell_type": "code",
   "execution_count": null,
   "id": "solar-yield",
   "metadata": {
    "execution": {
     "iopub.execute_input": "2021-05-27T10:17:01.491854Z",
     "iopub.status.busy": "2021-05-27T10:17:01.491115Z",
     "iopub.status.idle": "2021-05-27T10:17:01.499725Z",
     "shell.execute_reply": "2021-05-27T10:17:01.500186Z"
    },
    "papermill": {
     "duration": 0.108558,
     "end_time": "2021-05-27T10:17:01.500385",
     "exception": false,
     "start_time": "2021-05-27T10:17:01.391827",
     "status": "completed"
    },
    "tags": []
   },
   "outputs": [],
   "source": [
    "# accuracy score\n",
    "\n",
    "print(accuracy_score(y_train, svc.predict(X_train)))\n",
    "\n",
    "svc_acc = accuracy_score(y_test, svc.predict(X_test))\n",
    "print(svc_acc)"
   ]
  },
  {
   "cell_type": "code",
   "execution_count": null,
   "id": "compact-africa",
   "metadata": {
    "execution": {
     "iopub.execute_input": "2021-05-27T10:17:01.693942Z",
     "iopub.status.busy": "2021-05-27T10:17:01.693069Z",
     "iopub.status.idle": "2021-05-27T10:17:01.697228Z",
     "shell.execute_reply": "2021-05-27T10:17:01.696668Z"
    },
    "papermill": {
     "duration": 0.103948,
     "end_time": "2021-05-27T10:17:01.697372",
     "exception": false,
     "start_time": "2021-05-27T10:17:01.593424",
     "status": "completed"
    },
    "tags": []
   },
   "outputs": [],
   "source": [
    "# confusion matrix\n",
    "\n",
    "print(confusion_matrix(y_test, y_pred))"
   ]
  },
  {
   "cell_type": "code",
   "execution_count": null,
   "id": "european-train",
   "metadata": {
    "execution": {
     "iopub.execute_input": "2021-05-27T10:17:01.894525Z",
     "iopub.status.busy": "2021-05-27T10:17:01.893688Z",
     "iopub.status.idle": "2021-05-27T10:17:01.897970Z",
     "shell.execute_reply": "2021-05-27T10:17:01.898610Z"
    },
    "papermill": {
     "duration": 0.106697,
     "end_time": "2021-05-27T10:17:01.898785",
     "exception": false,
     "start_time": "2021-05-27T10:17:01.792088",
     "status": "completed"
    },
    "tags": []
   },
   "outputs": [],
   "source": [
    "# classification report\n",
    "\n",
    "print(classification_report(y_test, y_pred))"
   ]
  },
  {
   "cell_type": "markdown",
   "id": "floating-brazilian",
   "metadata": {
    "papermill": {
     "duration": 0.094966,
     "end_time": "2021-05-27T10:17:02.089329",
     "exception": false,
     "start_time": "2021-05-27T10:17:01.994363",
     "status": "completed"
    },
    "tags": []
   },
   "source": [
    "# SGD Classifier"
   ]
  },
  {
   "cell_type": "code",
   "execution_count": null,
   "id": "metallic-circumstances",
   "metadata": {
    "execution": {
     "iopub.execute_input": "2021-05-27T10:17:02.288448Z",
     "iopub.status.busy": "2021-05-27T10:17:02.287778Z",
     "iopub.status.idle": "2021-05-27T10:17:04.907499Z",
     "shell.execute_reply": "2021-05-27T10:17:04.906900Z"
    },
    "papermill": {
     "duration": 2.721325,
     "end_time": "2021-05-27T10:17:04.907646",
     "exception": false,
     "start_time": "2021-05-27T10:17:02.186321",
     "status": "completed"
    },
    "tags": []
   },
   "outputs": [],
   "source": [
    "from sklearn.linear_model import SGDClassifier\n",
    "\n",
    "sgd = SGDClassifier()\n",
    "parameters = {\n",
    "    'alpha' : [0.0001, 0.001, 0.01, 0.1, 1],\n",
    "    'loss' : ['hinge', 'log'],\n",
    "    'penalty' : ['l1', 'l2']\n",
    "}\n",
    "\n",
    "grid_search = GridSearchCV(sgd, parameters, cv = 10, n_jobs = -1)\n",
    "grid_search.fit(X_train, y_train)"
   ]
  },
  {
   "cell_type": "code",
   "execution_count": null,
   "id": "printable-triple",
   "metadata": {
    "execution": {
     "iopub.execute_input": "2021-05-27T10:17:05.104803Z",
     "iopub.status.busy": "2021-05-27T10:17:05.104007Z",
     "iopub.status.idle": "2021-05-27T10:17:05.107261Z",
     "shell.execute_reply": "2021-05-27T10:17:05.107747Z"
    },
    "papermill": {
     "duration": 0.104789,
     "end_time": "2021-05-27T10:17:05.107912",
     "exception": false,
     "start_time": "2021-05-27T10:17:05.003123",
     "status": "completed"
    },
    "tags": []
   },
   "outputs": [],
   "source": [
    "# best parameter \n",
    "\n",
    "grid_search.best_params_"
   ]
  },
  {
   "cell_type": "code",
   "execution_count": null,
   "id": "younger-humor",
   "metadata": {
    "execution": {
     "iopub.execute_input": "2021-05-27T10:17:05.304980Z",
     "iopub.status.busy": "2021-05-27T10:17:05.304001Z",
     "iopub.status.idle": "2021-05-27T10:17:05.312653Z",
     "shell.execute_reply": "2021-05-27T10:17:05.313122Z"
    },
    "papermill": {
     "duration": 0.107732,
     "end_time": "2021-05-27T10:17:05.313320",
     "exception": false,
     "start_time": "2021-05-27T10:17:05.205588",
     "status": "completed"
    },
    "tags": []
   },
   "outputs": [],
   "source": [
    "sgd = SGDClassifier(alpha = 0.001, loss = 'log', penalty = 'l2')\n",
    "sgd.fit(X_train, y_train)"
   ]
  },
  {
   "cell_type": "code",
   "execution_count": null,
   "id": "nominated-cornwall",
   "metadata": {
    "execution": {
     "iopub.execute_input": "2021-05-27T10:17:05.512757Z",
     "iopub.status.busy": "2021-05-27T10:17:05.511953Z",
     "iopub.status.idle": "2021-05-27T10:17:05.515332Z",
     "shell.execute_reply": "2021-05-27T10:17:05.514628Z"
    },
    "papermill": {
     "duration": 0.105867,
     "end_time": "2021-05-27T10:17:05.515483",
     "exception": false,
     "start_time": "2021-05-27T10:17:05.409616",
     "status": "completed"
    },
    "tags": []
   },
   "outputs": [],
   "source": [
    "# model predictions \n",
    "\n",
    "y_pred = sgd.predict(X_test)"
   ]
  },
  {
   "cell_type": "code",
   "execution_count": null,
   "id": "stopped-section",
   "metadata": {
    "execution": {
     "iopub.execute_input": "2021-05-27T10:17:05.717321Z",
     "iopub.status.busy": "2021-05-27T10:17:05.716623Z",
     "iopub.status.idle": "2021-05-27T10:17:05.722820Z",
     "shell.execute_reply": "2021-05-27T10:17:05.722173Z"
    },
    "papermill": {
     "duration": 0.110151,
     "end_time": "2021-05-27T10:17:05.722962",
     "exception": false,
     "start_time": "2021-05-27T10:17:05.612811",
     "status": "completed"
    },
    "tags": []
   },
   "outputs": [],
   "source": [
    "# accuracy score\n",
    "\n",
    "print(accuracy_score(y_train, sgd.predict(X_train)))\n",
    "\n",
    "sgd_acc = accuracy_score(y_test, sgd.predict(X_test))\n",
    "print(sgd_acc)"
   ]
  },
  {
   "cell_type": "code",
   "execution_count": null,
   "id": "entire-mathematics",
   "metadata": {
    "execution": {
     "iopub.execute_input": "2021-05-27T10:17:05.925526Z",
     "iopub.status.busy": "2021-05-27T10:17:05.924780Z",
     "iopub.status.idle": "2021-05-27T10:17:05.929167Z",
     "shell.execute_reply": "2021-05-27T10:17:05.928536Z"
    },
    "papermill": {
     "duration": 0.10939,
     "end_time": "2021-05-27T10:17:05.929327",
     "exception": false,
     "start_time": "2021-05-27T10:17:05.819937",
     "status": "completed"
    },
    "tags": []
   },
   "outputs": [],
   "source": [
    "# confusion matrix\n",
    "\n",
    "print(confusion_matrix(y_test, y_pred))"
   ]
  },
  {
   "cell_type": "code",
   "execution_count": null,
   "id": "oriental-yukon",
   "metadata": {
    "execution": {
     "iopub.execute_input": "2021-05-27T10:17:06.132810Z",
     "iopub.status.busy": "2021-05-27T10:17:06.131759Z",
     "iopub.status.idle": "2021-05-27T10:17:06.141107Z",
     "shell.execute_reply": "2021-05-27T10:17:06.141686Z"
    },
    "papermill": {
     "duration": 0.113885,
     "end_time": "2021-05-27T10:17:06.141861",
     "exception": false,
     "start_time": "2021-05-27T10:17:06.027976",
     "status": "completed"
    },
    "tags": []
   },
   "outputs": [],
   "source": [
    "# classification report\n",
    "\n",
    "print(classification_report(y_test, y_pred))"
   ]
  },
  {
   "cell_type": "markdown",
   "id": "agreed-print",
   "metadata": {
    "papermill": {
     "duration": 0.097403,
     "end_time": "2021-05-27T10:17:06.337415",
     "exception": false,
     "start_time": "2021-05-27T10:17:06.240012",
     "status": "completed"
    },
    "tags": []
   },
   "source": [
    "# Decision Tree Classifier"
   ]
  },
  {
   "cell_type": "code",
   "execution_count": null,
   "id": "large-celebration",
   "metadata": {
    "execution": {
     "iopub.execute_input": "2021-05-27T10:17:06.545380Z",
     "iopub.status.busy": "2021-05-27T10:17:06.544560Z",
     "iopub.status.idle": "2021-05-27T10:18:10.699282Z",
     "shell.execute_reply": "2021-05-27T10:18:10.699795Z"
    },
    "papermill": {
     "duration": 64.263936,
     "end_time": "2021-05-27T10:18:10.699980",
     "exception": false,
     "start_time": "2021-05-27T10:17:06.436044",
     "status": "completed"
    },
    "tags": []
   },
   "outputs": [],
   "source": [
    "from sklearn.tree import DecisionTreeClassifier\n",
    "\n",
    "dtc = DecisionTreeClassifier()\n",
    "\n",
    "parameters = {\n",
    "    'criterion' : ['gini', 'entropy'],\n",
    "    'max_depth' : range(2, 32, 1),\n",
    "    'min_samples_leaf' : range(1, 10, 1),\n",
    "    'min_samples_split' : range(2, 10, 1),\n",
    "    'splitter' : ['best', 'random']\n",
    "}\n",
    "\n",
    "grid_search_dt = GridSearchCV(dtc, parameters, cv = 5, n_jobs = -1, verbose = 1)\n",
    "grid_search_dt.fit(X_train, y_train)"
   ]
  },
  {
   "cell_type": "code",
   "execution_count": null,
   "id": "blind-spain",
   "metadata": {
    "execution": {
     "iopub.execute_input": "2021-05-27T10:18:10.902817Z",
     "iopub.status.busy": "2021-05-27T10:18:10.902153Z",
     "iopub.status.idle": "2021-05-27T10:18:10.906440Z",
     "shell.execute_reply": "2021-05-27T10:18:10.905821Z"
    },
    "papermill": {
     "duration": 0.108014,
     "end_time": "2021-05-27T10:18:10.906583",
     "exception": false,
     "start_time": "2021-05-27T10:18:10.798569",
     "status": "completed"
    },
    "tags": []
   },
   "outputs": [],
   "source": [
    "# best parameters\n",
    "\n",
    "grid_search_dt.best_params_"
   ]
  },
  {
   "cell_type": "code",
   "execution_count": null,
   "id": "generic-navigation",
   "metadata": {
    "execution": {
     "iopub.execute_input": "2021-05-27T10:18:11.109877Z",
     "iopub.status.busy": "2021-05-27T10:18:11.109163Z",
     "iopub.status.idle": "2021-05-27T10:18:11.113877Z",
     "shell.execute_reply": "2021-05-27T10:18:11.114367Z"
    },
    "papermill": {
     "duration": 0.108607,
     "end_time": "2021-05-27T10:18:11.114537",
     "exception": false,
     "start_time": "2021-05-27T10:18:11.005930",
     "status": "completed"
    },
    "tags": []
   },
   "outputs": [],
   "source": [
    "# best score\n",
    "\n",
    "grid_search_dt.best_score_"
   ]
  },
  {
   "cell_type": "code",
   "execution_count": null,
   "id": "negative-refrigerator",
   "metadata": {
    "execution": {
     "iopub.execute_input": "2021-05-27T10:18:11.317703Z",
     "iopub.status.busy": "2021-05-27T10:18:11.317014Z",
     "iopub.status.idle": "2021-05-27T10:18:11.324558Z",
     "shell.execute_reply": "2021-05-27T10:18:11.325083Z"
    },
    "papermill": {
     "duration": 0.110313,
     "end_time": "2021-05-27T10:18:11.325286",
     "exception": false,
     "start_time": "2021-05-27T10:18:11.214973",
     "status": "completed"
    },
    "tags": []
   },
   "outputs": [],
   "source": [
    "dtc = DecisionTreeClassifier(criterion = 'entropy', max_depth = 28, min_samples_leaf = 1, min_samples_split = 8, splitter = 'random')\n",
    "dtc.fit(X_train, y_train)"
   ]
  },
  {
   "cell_type": "code",
   "execution_count": null,
   "id": "suffering-preview",
   "metadata": {
    "execution": {
     "iopub.execute_input": "2021-05-27T10:18:11.529463Z",
     "iopub.status.busy": "2021-05-27T10:18:11.528845Z",
     "iopub.status.idle": "2021-05-27T10:18:11.532924Z",
     "shell.execute_reply": "2021-05-27T10:18:11.533446Z"
    },
    "papermill": {
     "duration": 0.108055,
     "end_time": "2021-05-27T10:18:11.533627",
     "exception": false,
     "start_time": "2021-05-27T10:18:11.425572",
     "status": "completed"
    },
    "tags": []
   },
   "outputs": [],
   "source": [
    "y_pred = dtc.predict(X_test)"
   ]
  },
  {
   "cell_type": "code",
   "execution_count": null,
   "id": "forty-finger",
   "metadata": {
    "execution": {
     "iopub.execute_input": "2021-05-27T10:18:11.737822Z",
     "iopub.status.busy": "2021-05-27T10:18:11.737106Z",
     "iopub.status.idle": "2021-05-27T10:18:11.743990Z",
     "shell.execute_reply": "2021-05-27T10:18:11.744520Z"
    },
    "papermill": {
     "duration": 0.110252,
     "end_time": "2021-05-27T10:18:11.744700",
     "exception": false,
     "start_time": "2021-05-27T10:18:11.634448",
     "status": "completed"
    },
    "tags": []
   },
   "outputs": [],
   "source": [
    "# accuracy score\n",
    "\n",
    "print(accuracy_score(y_train, dtc.predict(X_train)))\n",
    "\n",
    "dtc_acc = accuracy_score(y_test, dtc.predict(X_test))\n",
    "print(dtc_acc)"
   ]
  },
  {
   "cell_type": "code",
   "execution_count": null,
   "id": "grave-complexity",
   "metadata": {
    "execution": {
     "iopub.execute_input": "2021-05-27T10:18:11.954202Z",
     "iopub.status.busy": "2021-05-27T10:18:11.953545Z",
     "iopub.status.idle": "2021-05-27T10:18:11.956533Z",
     "shell.execute_reply": "2021-05-27T10:18:11.957129Z"
    },
    "papermill": {
     "duration": 0.112407,
     "end_time": "2021-05-27T10:18:11.957321",
     "exception": false,
     "start_time": "2021-05-27T10:18:11.844914",
     "status": "completed"
    },
    "tags": []
   },
   "outputs": [],
   "source": [
    "# confusion matrix\n",
    "\n",
    "print(confusion_matrix(y_test, y_pred))"
   ]
  },
  {
   "cell_type": "code",
   "execution_count": null,
   "id": "prepared-corps",
   "metadata": {
    "execution": {
     "iopub.execute_input": "2021-05-27T10:18:12.166767Z",
     "iopub.status.busy": "2021-05-27T10:18:12.166086Z",
     "iopub.status.idle": "2021-05-27T10:18:12.178259Z",
     "shell.execute_reply": "2021-05-27T10:18:12.177107Z"
    },
    "papermill": {
     "duration": 0.120056,
     "end_time": "2021-05-27T10:18:12.178485",
     "exception": false,
     "start_time": "2021-05-27T10:18:12.058429",
     "status": "completed"
    },
    "tags": []
   },
   "outputs": [],
   "source": [
    "# classification report\n",
    "\n",
    "print(classification_report(y_test, y_pred))"
   ]
  },
  {
   "cell_type": "markdown",
   "id": "color-maximum",
   "metadata": {
    "papermill": {
     "duration": 0.101079,
     "end_time": "2021-05-27T10:18:12.381673",
     "exception": false,
     "start_time": "2021-05-27T10:18:12.280594",
     "status": "completed"
    },
    "tags": []
   },
   "source": [
    "# Random Forest Classifier"
   ]
  },
  {
   "cell_type": "code",
   "execution_count": null,
   "id": "aggregate-checkout",
   "metadata": {
    "execution": {
     "iopub.execute_input": "2021-05-27T10:18:12.592873Z",
     "iopub.status.busy": "2021-05-27T10:18:12.592167Z",
     "iopub.status.idle": "2021-05-27T10:18:12.949972Z",
     "shell.execute_reply": "2021-05-27T10:18:12.949399Z"
    },
    "papermill": {
     "duration": 0.464433,
     "end_time": "2021-05-27T10:18:12.950119",
     "exception": false,
     "start_time": "2021-05-27T10:18:12.485686",
     "status": "completed"
    },
    "tags": []
   },
   "outputs": [],
   "source": [
    "from sklearn.ensemble import RandomForestClassifier\n",
    "\n",
    "rand_clf = RandomForestClassifier(criterion = 'entropy', max_depth = 11, max_features = 'auto', min_samples_leaf = 2, min_samples_split = 3, n_estimators = 130)\n",
    "rand_clf.fit(X_train, y_train)"
   ]
  },
  {
   "cell_type": "code",
   "execution_count": null,
   "id": "searching-piece",
   "metadata": {
    "execution": {
     "iopub.execute_input": "2021-05-27T10:18:13.161233Z",
     "iopub.status.busy": "2021-05-27T10:18:13.160143Z",
     "iopub.status.idle": "2021-05-27T10:18:13.178521Z",
     "shell.execute_reply": "2021-05-27T10:18:13.177933Z"
    },
    "papermill": {
     "duration": 0.126462,
     "end_time": "2021-05-27T10:18:13.178685",
     "exception": false,
     "start_time": "2021-05-27T10:18:13.052223",
     "status": "completed"
    },
    "tags": []
   },
   "outputs": [],
   "source": [
    "y_pred = rand_clf.predict(X_test)"
   ]
  },
  {
   "cell_type": "code",
   "execution_count": null,
   "id": "contrary-european",
   "metadata": {
    "execution": {
     "iopub.execute_input": "2021-05-27T10:18:13.391035Z",
     "iopub.status.busy": "2021-05-27T10:18:13.390385Z",
     "iopub.status.idle": "2021-05-27T10:18:13.413087Z",
     "shell.execute_reply": "2021-05-27T10:18:13.412555Z"
    },
    "papermill": {
     "duration": 0.132303,
     "end_time": "2021-05-27T10:18:13.413308",
     "exception": false,
     "start_time": "2021-05-27T10:18:13.281005",
     "status": "completed"
    },
    "tags": []
   },
   "outputs": [],
   "source": [
    "# accuracy score\n",
    "\n",
    "print(accuracy_score(y_train, rand_clf.predict(X_train)))\n",
    "\n",
    "ran_clf_acc = accuracy_score(y_test, y_pred)\n",
    "print(ran_clf_acc)"
   ]
  },
  {
   "cell_type": "code",
   "execution_count": null,
   "id": "royal-repeat",
   "metadata": {
    "execution": {
     "iopub.execute_input": "2021-05-27T10:18:13.630116Z",
     "iopub.status.busy": "2021-05-27T10:18:13.628822Z",
     "iopub.status.idle": "2021-05-27T10:18:13.634306Z",
     "shell.execute_reply": "2021-05-27T10:18:13.633595Z"
    },
    "papermill": {
     "duration": 0.117425,
     "end_time": "2021-05-27T10:18:13.634463",
     "exception": false,
     "start_time": "2021-05-27T10:18:13.517038",
     "status": "completed"
    },
    "tags": []
   },
   "outputs": [],
   "source": [
    "# confusion matrix\n",
    "\n",
    "print(confusion_matrix(y_test, y_pred))"
   ]
  },
  {
   "cell_type": "code",
   "execution_count": null,
   "id": "enclosed-joyce",
   "metadata": {
    "execution": {
     "iopub.execute_input": "2021-05-27T10:18:13.900553Z",
     "iopub.status.busy": "2021-05-27T10:18:13.899805Z",
     "iopub.status.idle": "2021-05-27T10:18:13.908135Z",
     "shell.execute_reply": "2021-05-27T10:18:13.908745Z"
    },
    "papermill": {
     "duration": 0.118486,
     "end_time": "2021-05-27T10:18:13.908936",
     "exception": false,
     "start_time": "2021-05-27T10:18:13.790450",
     "status": "completed"
    },
    "tags": []
   },
   "outputs": [],
   "source": [
    "# classification report\n",
    "\n",
    "print(classification_report(y_test, y_pred))"
   ]
  },
  {
   "cell_type": "markdown",
   "id": "smart-disability",
   "metadata": {
    "papermill": {
     "duration": 0.104234,
     "end_time": "2021-05-27T10:18:14.117844",
     "exception": false,
     "start_time": "2021-05-27T10:18:14.013610",
     "status": "completed"
    },
    "tags": []
   },
   "source": [
    "# Voting Classifier"
   ]
  },
  {
   "cell_type": "code",
   "execution_count": null,
   "id": "swedish-prague",
   "metadata": {
    "execution": {
     "iopub.execute_input": "2021-05-27T10:18:14.345996Z",
     "iopub.status.busy": "2021-05-27T10:18:14.339808Z",
     "iopub.status.idle": "2021-05-27T10:18:14.360863Z",
     "shell.execute_reply": "2021-05-27T10:18:14.360293Z"
    },
    "papermill": {
     "duration": 0.136952,
     "end_time": "2021-05-27T10:18:14.361002",
     "exception": false,
     "start_time": "2021-05-27T10:18:14.224050",
     "status": "completed"
    },
    "tags": []
   },
   "outputs": [],
   "source": [
    "from sklearn.ensemble import VotingClassifier\n",
    "\n",
    "classifiers = [('Logistic Regression', log_reg), ('K Nearest Neighbours', knn), ('Support Vector Classifier', svc),\n",
    "               ('Decision Tree', dtc)]\n",
    "\n",
    "vc = VotingClassifier(estimators = classifiers)\n",
    "\n",
    "vc.fit(X_train, y_train)"
   ]
  },
  {
   "cell_type": "code",
   "execution_count": null,
   "id": "small-rough",
   "metadata": {
    "execution": {
     "iopub.execute_input": "2021-05-27T10:18:14.576833Z",
     "iopub.status.busy": "2021-05-27T10:18:14.576146Z",
     "iopub.status.idle": "2021-05-27T10:18:14.605366Z",
     "shell.execute_reply": "2021-05-27T10:18:14.606290Z"
    },
    "papermill": {
     "duration": 0.14133,
     "end_time": "2021-05-27T10:18:14.606575",
     "exception": false,
     "start_time": "2021-05-27T10:18:14.465245",
     "status": "completed"
    },
    "tags": []
   },
   "outputs": [],
   "source": [
    "y_pred = vc.predict(X_test)"
   ]
  },
  {
   "cell_type": "code",
   "execution_count": null,
   "id": "convenient-receiver",
   "metadata": {
    "execution": {
     "iopub.execute_input": "2021-05-27T10:18:14.867731Z",
     "iopub.status.busy": "2021-05-27T10:18:14.866645Z",
     "iopub.status.idle": "2021-05-27T10:18:14.917449Z",
     "shell.execute_reply": "2021-05-27T10:18:14.919057Z"
    },
    "papermill": {
     "duration": 0.166998,
     "end_time": "2021-05-27T10:18:14.919495",
     "exception": false,
     "start_time": "2021-05-27T10:18:14.752497",
     "status": "completed"
    },
    "tags": []
   },
   "outputs": [],
   "source": [
    "# accuracy score\n",
    "\n",
    "print(accuracy_score(y_train, vc.predict(X_train)))\n",
    "\n",
    "vc_acc = accuracy_score(y_test, y_pred)\n",
    "print(vc_acc)"
   ]
  },
  {
   "cell_type": "code",
   "execution_count": null,
   "id": "iraqi-sensitivity",
   "metadata": {
    "execution": {
     "iopub.execute_input": "2021-05-27T10:18:15.173815Z",
     "iopub.status.busy": "2021-05-27T10:18:15.172810Z",
     "iopub.status.idle": "2021-05-27T10:18:15.178242Z",
     "shell.execute_reply": "2021-05-27T10:18:15.178936Z"
    },
    "papermill": {
     "duration": 0.118915,
     "end_time": "2021-05-27T10:18:15.179160",
     "exception": false,
     "start_time": "2021-05-27T10:18:15.060245",
     "status": "completed"
    },
    "tags": []
   },
   "outputs": [],
   "source": [
    "# confusion matrix\n",
    "\n",
    "print(confusion_matrix(y_test, y_pred))"
   ]
  },
  {
   "cell_type": "code",
   "execution_count": null,
   "id": "flexible-binding",
   "metadata": {
    "execution": {
     "iopub.execute_input": "2021-05-27T10:18:15.399260Z",
     "iopub.status.busy": "2021-05-27T10:18:15.398148Z",
     "iopub.status.idle": "2021-05-27T10:18:15.408264Z",
     "shell.execute_reply": "2021-05-27T10:18:15.409026Z"
    },
    "papermill": {
     "duration": 0.12396,
     "end_time": "2021-05-27T10:18:15.409300",
     "exception": false,
     "start_time": "2021-05-27T10:18:15.285340",
     "status": "completed"
    },
    "tags": []
   },
   "outputs": [],
   "source": [
    "# classification report\n",
    "\n",
    "print(classification_report(y_test, y_pred))"
   ]
  },
  {
   "cell_type": "markdown",
   "id": "double-enough",
   "metadata": {
    "papermill": {
     "duration": 0.105572,
     "end_time": "2021-05-27T10:18:15.621853",
     "exception": false,
     "start_time": "2021-05-27T10:18:15.516281",
     "status": "completed"
    },
    "tags": []
   },
   "source": [
    "# Ada Boost Classifier"
   ]
  },
  {
   "cell_type": "code",
   "execution_count": null,
   "id": "united-compression",
   "metadata": {
    "execution": {
     "iopub.execute_input": "2021-05-27T10:18:15.841779Z",
     "iopub.status.busy": "2021-05-27T10:18:15.841022Z",
     "iopub.status.idle": "2021-05-27T10:18:16.289540Z",
     "shell.execute_reply": "2021-05-27T10:18:16.288955Z"
    },
    "papermill": {
     "duration": 0.562119,
     "end_time": "2021-05-27T10:18:16.289688",
     "exception": false,
     "start_time": "2021-05-27T10:18:15.727569",
     "status": "completed"
    },
    "tags": []
   },
   "outputs": [],
   "source": [
    "from sklearn.ensemble import AdaBoostClassifier\n",
    "\n",
    "ada = AdaBoostClassifier(base_estimator = dtc)\n",
    "\n",
    "ada = AdaBoostClassifier(dtc, n_estimators = 180)\n",
    "ada.fit(X_train, y_train)"
   ]
  },
  {
   "cell_type": "code",
   "execution_count": null,
   "id": "extended-iceland",
   "metadata": {
    "execution": {
     "iopub.execute_input": "2021-05-27T10:18:16.514925Z",
     "iopub.status.busy": "2021-05-27T10:18:16.513707Z",
     "iopub.status.idle": "2021-05-27T10:18:16.552324Z",
     "shell.execute_reply": "2021-05-27T10:18:16.552833Z"
    },
    "papermill": {
     "duration": 0.157247,
     "end_time": "2021-05-27T10:18:16.553029",
     "exception": false,
     "start_time": "2021-05-27T10:18:16.395782",
     "status": "completed"
    },
    "tags": []
   },
   "outputs": [],
   "source": [
    "y_pred = ada.predict(X_test)"
   ]
  },
  {
   "cell_type": "code",
   "execution_count": null,
   "id": "forty-leone",
   "metadata": {
    "execution": {
     "iopub.execute_input": "2021-05-27T10:18:16.774509Z",
     "iopub.status.busy": "2021-05-27T10:18:16.773506Z",
     "iopub.status.idle": "2021-05-27T10:18:16.827163Z",
     "shell.execute_reply": "2021-05-27T10:18:16.826583Z"
    },
    "papermill": {
     "duration": 0.165392,
     "end_time": "2021-05-27T10:18:16.827346",
     "exception": false,
     "start_time": "2021-05-27T10:18:16.661954",
     "status": "completed"
    },
    "tags": []
   },
   "outputs": [],
   "source": [
    "# accuracy score\n",
    "\n",
    "print(accuracy_score(y_train, ada.predict(X_train)))\n",
    "\n",
    "ada_acc = accuracy_score(y_test, y_pred)\n",
    "print(ada_acc)"
   ]
  },
  {
   "cell_type": "code",
   "execution_count": null,
   "id": "activated-superior",
   "metadata": {
    "execution": {
     "iopub.execute_input": "2021-05-27T10:18:17.053180Z",
     "iopub.status.busy": "2021-05-27T10:18:17.052512Z",
     "iopub.status.idle": "2021-05-27T10:18:17.055907Z",
     "shell.execute_reply": "2021-05-27T10:18:17.056409Z"
    },
    "papermill": {
     "duration": 0.120868,
     "end_time": "2021-05-27T10:18:17.056584",
     "exception": false,
     "start_time": "2021-05-27T10:18:16.935716",
     "status": "completed"
    },
    "tags": []
   },
   "outputs": [],
   "source": [
    "# confusion matrix\n",
    "\n",
    "print(confusion_matrix(y_test, y_pred))"
   ]
  },
  {
   "cell_type": "code",
   "execution_count": null,
   "id": "significant-twins",
   "metadata": {
    "execution": {
     "iopub.execute_input": "2021-05-27T10:18:17.280445Z",
     "iopub.status.busy": "2021-05-27T10:18:17.279728Z",
     "iopub.status.idle": "2021-05-27T10:18:17.288546Z",
     "shell.execute_reply": "2021-05-27T10:18:17.289020Z"
    },
    "papermill": {
     "duration": 0.126353,
     "end_time": "2021-05-27T10:18:17.289232",
     "exception": false,
     "start_time": "2021-05-27T10:18:17.162879",
     "status": "completed"
    },
    "tags": []
   },
   "outputs": [],
   "source": [
    "# classification report\n",
    "\n",
    "print(classification_report(y_test, y_pred))"
   ]
  },
  {
   "cell_type": "markdown",
   "id": "instant-therapist",
   "metadata": {
    "papermill": {
     "duration": 0.12969,
     "end_time": "2021-05-27T10:18:17.527648",
     "exception": false,
     "start_time": "2021-05-27T10:18:17.397958",
     "status": "completed"
    },
    "tags": []
   },
   "source": [
    "# Gradient Boosting Classifier"
   ]
  },
  {
   "cell_type": "code",
   "execution_count": null,
   "id": "downtown-pasta",
   "metadata": {
    "execution": {
     "iopub.execute_input": "2021-05-27T10:18:17.760015Z",
     "iopub.status.busy": "2021-05-27T10:18:17.758970Z",
     "iopub.status.idle": "2021-05-27T10:18:41.280922Z",
     "shell.execute_reply": "2021-05-27T10:18:41.280265Z"
    },
    "papermill": {
     "duration": 23.637404,
     "end_time": "2021-05-27T10:18:41.281113",
     "exception": false,
     "start_time": "2021-05-27T10:18:17.643709",
     "status": "completed"
    },
    "tags": []
   },
   "outputs": [],
   "source": [
    "from sklearn.ensemble import GradientBoostingClassifier\n",
    "\n",
    "gbc = GradientBoostingClassifier()\n",
    "\n",
    "parameters = {\n",
    "    'loss': ['deviance', 'exponential'],\n",
    "    'learning_rate': [0.001, 0.1, 1, 10],\n",
    "    'n_estimators': [100, 150, 180, 200]\n",
    "}\n",
    "\n",
    "grid_search_gbc = GridSearchCV(gbc, parameters, cv = 5, n_jobs = -1, verbose = 1)\n",
    "grid_search_gbc.fit(X_train, y_train)"
   ]
  },
  {
   "cell_type": "code",
   "execution_count": null,
   "id": "removed-tuition",
   "metadata": {
    "execution": {
     "iopub.execute_input": "2021-05-27T10:18:41.502915Z",
     "iopub.status.busy": "2021-05-27T10:18:41.502231Z",
     "iopub.status.idle": "2021-05-27T10:18:41.505456Z",
     "shell.execute_reply": "2021-05-27T10:18:41.505964Z"
    },
    "papermill": {
     "duration": 0.11675,
     "end_time": "2021-05-27T10:18:41.506186",
     "exception": false,
     "start_time": "2021-05-27T10:18:41.389436",
     "status": "completed"
    },
    "tags": []
   },
   "outputs": [],
   "source": [
    "# best parameters \n",
    "\n",
    "grid_search_gbc.best_params_"
   ]
  },
  {
   "cell_type": "code",
   "execution_count": null,
   "id": "southeast-trial",
   "metadata": {
    "execution": {
     "iopub.execute_input": "2021-05-27T10:18:41.726975Z",
     "iopub.status.busy": "2021-05-27T10:18:41.726361Z",
     "iopub.status.idle": "2021-05-27T10:18:41.730783Z",
     "shell.execute_reply": "2021-05-27T10:18:41.731273Z"
    },
    "papermill": {
     "duration": 0.115397,
     "end_time": "2021-05-27T10:18:41.731443",
     "exception": false,
     "start_time": "2021-05-27T10:18:41.616046",
     "status": "completed"
    },
    "tags": []
   },
   "outputs": [],
   "source": [
    "# best score\n",
    "\n",
    "grid_search_gbc.best_score_"
   ]
  },
  {
   "cell_type": "code",
   "execution_count": null,
   "id": "altered-organ",
   "metadata": {
    "execution": {
     "iopub.execute_input": "2021-05-27T10:18:41.952268Z",
     "iopub.status.busy": "2021-05-27T10:18:41.951633Z",
     "iopub.status.idle": "2021-05-27T10:18:42.527969Z",
     "shell.execute_reply": "2021-05-27T10:18:42.528464Z"
    },
    "papermill": {
     "duration": 0.687823,
     "end_time": "2021-05-27T10:18:42.528644",
     "exception": false,
     "start_time": "2021-05-27T10:18:41.840821",
     "status": "completed"
    },
    "tags": []
   },
   "outputs": [],
   "source": [
    "gbc = GradientBoostingClassifier(learning_rate = 1, loss = 'exponential', n_estimators = 200)\n",
    "gbc.fit(X_train, y_train)"
   ]
  },
  {
   "cell_type": "code",
   "execution_count": null,
   "id": "helpful-biotechnology",
   "metadata": {
    "execution": {
     "iopub.execute_input": "2021-05-27T10:18:42.750465Z",
     "iopub.status.busy": "2021-05-27T10:18:42.749716Z",
     "iopub.status.idle": "2021-05-27T10:18:42.754483Z",
     "shell.execute_reply": "2021-05-27T10:18:42.754961Z"
    },
    "papermill": {
     "duration": 0.117512,
     "end_time": "2021-05-27T10:18:42.755155",
     "exception": false,
     "start_time": "2021-05-27T10:18:42.637643",
     "status": "completed"
    },
    "tags": []
   },
   "outputs": [],
   "source": [
    "y_pred = gbc.predict(X_test)"
   ]
  },
  {
   "cell_type": "code",
   "execution_count": null,
   "id": "allied-italy",
   "metadata": {
    "execution": {
     "iopub.execute_input": "2021-05-27T10:18:42.983431Z",
     "iopub.status.busy": "2021-05-27T10:18:42.982650Z",
     "iopub.status.idle": "2021-05-27T10:18:42.987300Z",
     "shell.execute_reply": "2021-05-27T10:18:42.986560Z"
    },
    "papermill": {
     "duration": 0.122339,
     "end_time": "2021-05-27T10:18:42.987495",
     "exception": false,
     "start_time": "2021-05-27T10:18:42.865156",
     "status": "completed"
    },
    "tags": []
   },
   "outputs": [],
   "source": [
    "# accuracy score\n",
    "\n",
    "print(accuracy_score(y_train, gbc.predict(X_train)))\n",
    "\n",
    "gbc_acc = accuracy_score(y_test, y_pred)\n",
    "print(gbc_acc)"
   ]
  },
  {
   "cell_type": "code",
   "execution_count": null,
   "id": "limiting-savage",
   "metadata": {
    "execution": {
     "iopub.execute_input": "2021-05-27T10:18:43.212195Z",
     "iopub.status.busy": "2021-05-27T10:18:43.211544Z",
     "iopub.status.idle": "2021-05-27T10:18:43.217690Z",
     "shell.execute_reply": "2021-05-27T10:18:43.217189Z"
    },
    "papermill": {
     "duration": 0.11938,
     "end_time": "2021-05-27T10:18:43.217826",
     "exception": false,
     "start_time": "2021-05-27T10:18:43.098446",
     "status": "completed"
    },
    "tags": []
   },
   "outputs": [],
   "source": [
    "# confusion matrix\n",
    "\n",
    "print(confusion_matrix(y_test, y_pred))"
   ]
  },
  {
   "cell_type": "code",
   "execution_count": null,
   "id": "soviet-karaoke",
   "metadata": {
    "execution": {
     "iopub.execute_input": "2021-05-27T10:18:43.442450Z",
     "iopub.status.busy": "2021-05-27T10:18:43.441774Z",
     "iopub.status.idle": "2021-05-27T10:18:43.449228Z",
     "shell.execute_reply": "2021-05-27T10:18:43.449736Z"
    },
    "papermill": {
     "duration": 0.122432,
     "end_time": "2021-05-27T10:18:43.449905",
     "exception": false,
     "start_time": "2021-05-27T10:18:43.327473",
     "status": "completed"
    },
    "tags": []
   },
   "outputs": [],
   "source": [
    "# classification report\n",
    "\n",
    "print(classification_report(y_test, y_pred))"
   ]
  },
  {
   "cell_type": "markdown",
   "id": "awful-cameroon",
   "metadata": {
    "papermill": {
     "duration": 0.109648,
     "end_time": "2021-05-27T10:18:43.670460",
     "exception": false,
     "start_time": "2021-05-27T10:18:43.560812",
     "status": "completed"
    },
    "tags": []
   },
   "source": [
    "# Stochastic Gradient Boosting (SGB)"
   ]
  },
  {
   "cell_type": "code",
   "execution_count": null,
   "id": "available-cattle",
   "metadata": {
    "execution": {
     "iopub.execute_input": "2021-05-27T10:18:43.894767Z",
     "iopub.status.busy": "2021-05-27T10:18:43.894073Z",
     "iopub.status.idle": "2021-05-27T10:18:44.449978Z",
     "shell.execute_reply": "2021-05-27T10:18:44.449445Z"
    },
    "papermill": {
     "duration": 0.66875,
     "end_time": "2021-05-27T10:18:44.450115",
     "exception": false,
     "start_time": "2021-05-27T10:18:43.781365",
     "status": "completed"
    },
    "tags": []
   },
   "outputs": [],
   "source": [
    "sgbc = GradientBoostingClassifier(max_depth=4, subsample=0.9, max_features=0.75, n_estimators=200, random_state=0)\n",
    "\n",
    "sgbc.fit(X_train, y_train)"
   ]
  },
  {
   "cell_type": "code",
   "execution_count": null,
   "id": "canadian-warrior",
   "metadata": {
    "execution": {
     "iopub.execute_input": "2021-05-27T10:18:44.677520Z",
     "iopub.status.busy": "2021-05-27T10:18:44.676861Z",
     "iopub.status.idle": "2021-05-27T10:18:44.678523Z",
     "shell.execute_reply": "2021-05-27T10:18:44.679083Z"
    },
    "papermill": {
     "duration": 0.118376,
     "end_time": "2021-05-27T10:18:44.679272",
     "exception": false,
     "start_time": "2021-05-27T10:18:44.560896",
     "status": "completed"
    },
    "tags": []
   },
   "outputs": [],
   "source": [
    "y_pred = sgbc.predict(X_test)"
   ]
  },
  {
   "cell_type": "code",
   "execution_count": null,
   "id": "identical-person",
   "metadata": {
    "execution": {
     "iopub.execute_input": "2021-05-27T10:18:44.904885Z",
     "iopub.status.busy": "2021-05-27T10:18:44.904239Z",
     "iopub.status.idle": "2021-05-27T10:18:44.912557Z",
     "shell.execute_reply": "2021-05-27T10:18:44.913143Z"
    },
    "papermill": {
     "duration": 0.123456,
     "end_time": "2021-05-27T10:18:44.913338",
     "exception": false,
     "start_time": "2021-05-27T10:18:44.789882",
     "status": "completed"
    },
    "tags": []
   },
   "outputs": [],
   "source": [
    "# accuracy score\n",
    "\n",
    "print(accuracy_score(y_train, sgbc.predict(X_train)))\n",
    "\n",
    "sgbc_acc = accuracy_score(y_test, y_pred)\n",
    "print(sgbc_acc)"
   ]
  },
  {
   "cell_type": "code",
   "execution_count": null,
   "id": "foreign-walnut",
   "metadata": {
    "execution": {
     "iopub.execute_input": "2021-05-27T10:18:45.142786Z",
     "iopub.status.busy": "2021-05-27T10:18:45.142009Z",
     "iopub.status.idle": "2021-05-27T10:18:45.145019Z",
     "shell.execute_reply": "2021-05-27T10:18:45.145540Z"
    },
    "papermill": {
     "duration": 0.120523,
     "end_time": "2021-05-27T10:18:45.145728",
     "exception": false,
     "start_time": "2021-05-27T10:18:45.025205",
     "status": "completed"
    },
    "tags": []
   },
   "outputs": [],
   "source": [
    "# confusion matrix\n",
    "\n",
    "print(confusion_matrix(y_test, y_pred))"
   ]
  },
  {
   "cell_type": "code",
   "execution_count": null,
   "id": "instrumental-jamaica",
   "metadata": {
    "execution": {
     "iopub.execute_input": "2021-05-27T10:18:45.373566Z",
     "iopub.status.busy": "2021-05-27T10:18:45.372938Z",
     "iopub.status.idle": "2021-05-27T10:18:45.384592Z",
     "shell.execute_reply": "2021-05-27T10:18:45.384014Z"
    },
    "papermill": {
     "duration": 0.126626,
     "end_time": "2021-05-27T10:18:45.384741",
     "exception": false,
     "start_time": "2021-05-27T10:18:45.258115",
     "status": "completed"
    },
    "tags": []
   },
   "outputs": [],
   "source": [
    "# classification report\n",
    "\n",
    "print(classification_report(y_test, y_pred))"
   ]
  },
  {
   "cell_type": "markdown",
   "id": "derived-aaron",
   "metadata": {
    "papermill": {
     "duration": 0.114235,
     "end_time": "2021-05-27T10:18:45.613111",
     "exception": false,
     "start_time": "2021-05-27T10:18:45.498876",
     "status": "completed"
    },
    "tags": []
   },
   "source": [
    "# Extreme Gradient Boosting"
   ]
  },
  {
   "cell_type": "code",
   "execution_count": null,
   "id": "otherwise-chapel",
   "metadata": {
    "execution": {
     "iopub.execute_input": "2021-05-27T10:18:45.841565Z",
     "iopub.status.busy": "2021-05-27T10:18:45.840923Z",
     "iopub.status.idle": "2021-05-27T10:18:46.005113Z",
     "shell.execute_reply": "2021-05-27T10:18:46.004479Z"
    },
    "papermill": {
     "duration": 0.280015,
     "end_time": "2021-05-27T10:18:46.005317",
     "exception": false,
     "start_time": "2021-05-27T10:18:45.725302",
     "status": "completed"
    },
    "tags": []
   },
   "outputs": [],
   "source": [
    "from xgboost import XGBClassifier \n",
    "\n",
    "xgb = XGBClassifier(objective = 'binary:logistic', learning_rate = 0.5, max_depth = 5, n_estimators = 180)\n",
    "\n",
    "xgb.fit(X_train, y_train)"
   ]
  },
  {
   "cell_type": "code",
   "execution_count": null,
   "id": "periodic-underground",
   "metadata": {
    "execution": {
     "iopub.execute_input": "2021-05-27T10:18:46.238897Z",
     "iopub.status.busy": "2021-05-27T10:18:46.238092Z",
     "iopub.status.idle": "2021-05-27T10:18:46.243896Z",
     "shell.execute_reply": "2021-05-27T10:18:46.244442Z"
    },
    "papermill": {
     "duration": 0.125053,
     "end_time": "2021-05-27T10:18:46.244659",
     "exception": false,
     "start_time": "2021-05-27T10:18:46.119606",
     "status": "completed"
    },
    "tags": []
   },
   "outputs": [],
   "source": [
    "y_pred = xgb.predict(X_test)"
   ]
  },
  {
   "cell_type": "code",
   "execution_count": null,
   "id": "liberal-majority",
   "metadata": {
    "execution": {
     "iopub.execute_input": "2021-05-27T10:18:46.485011Z",
     "iopub.status.busy": "2021-05-27T10:18:46.484097Z",
     "iopub.status.idle": "2021-05-27T10:18:46.494195Z",
     "shell.execute_reply": "2021-05-27T10:18:46.494741Z"
    },
    "papermill": {
     "duration": 0.134331,
     "end_time": "2021-05-27T10:18:46.494949",
     "exception": false,
     "start_time": "2021-05-27T10:18:46.360618",
     "status": "completed"
    },
    "tags": []
   },
   "outputs": [],
   "source": [
    "# accuracy score\n",
    "\n",
    "print(accuracy_score(y_train, xgb.predict(X_train)))\n",
    "\n",
    "xgb_acc = accuracy_score(y_test, y_pred)\n",
    "print(xgb_acc)"
   ]
  },
  {
   "cell_type": "code",
   "execution_count": null,
   "id": "lasting-zoning",
   "metadata": {
    "execution": {
     "iopub.execute_input": "2021-05-27T10:18:46.729589Z",
     "iopub.status.busy": "2021-05-27T10:18:46.728927Z",
     "iopub.status.idle": "2021-05-27T10:18:46.732831Z",
     "shell.execute_reply": "2021-05-27T10:18:46.733345Z"
    },
    "papermill": {
     "duration": 0.122734,
     "end_time": "2021-05-27T10:18:46.733523",
     "exception": false,
     "start_time": "2021-05-27T10:18:46.610789",
     "status": "completed"
    },
    "tags": []
   },
   "outputs": [],
   "source": [
    "# confusion matrix\n",
    "\n",
    "print(confusion_matrix(y_test, y_pred))"
   ]
  },
  {
   "cell_type": "code",
   "execution_count": null,
   "id": "excessive-above",
   "metadata": {
    "execution": {
     "iopub.execute_input": "2021-05-27T10:18:46.966334Z",
     "iopub.status.busy": "2021-05-27T10:18:46.965672Z",
     "iopub.status.idle": "2021-05-27T10:18:46.974628Z",
     "shell.execute_reply": "2021-05-27T10:18:46.975125Z"
    },
    "papermill": {
     "duration": 0.126897,
     "end_time": "2021-05-27T10:18:46.975315",
     "exception": false,
     "start_time": "2021-05-27T10:18:46.848418",
     "status": "completed"
    },
    "tags": []
   },
   "outputs": [],
   "source": [
    "# classification report\n",
    "\n",
    "print(classification_report(y_test, y_pred))"
   ]
  },
  {
   "cell_type": "code",
   "execution_count": null,
   "id": "circular-minute",
   "metadata": {
    "execution": {
     "iopub.execute_input": "2021-05-27T10:18:47.215919Z",
     "iopub.status.busy": "2021-05-27T10:18:47.215236Z",
     "iopub.status.idle": "2021-05-27T10:18:47.223134Z",
     "shell.execute_reply": "2021-05-27T10:18:47.222644Z"
    },
    "papermill": {
     "duration": 0.132737,
     "end_time": "2021-05-27T10:18:47.223300",
     "exception": false,
     "start_time": "2021-05-27T10:18:47.090563",
     "status": "completed"
    },
    "tags": []
   },
   "outputs": [],
   "source": [
    "models = pd.DataFrame({\n",
    "    'Model': ['Logistic Regression', 'KNN', 'SVC', 'SGD Classifier', 'Decision Tree Classifier', 'Random Forest Classifier', 'Voting Classifier', 'Ada Boost Classifier',\n",
    "             'Gradient Boosting Classifier', 'Stochastic Gradient Boosting', 'XgBoost'],\n",
    "    'Score': [log_reg_acc, knn_acc, svc_acc, sgd_acc, dtc_acc, ran_clf_acc, vc_acc, ada_acc, gbc_acc, sgbc_acc, xgb_acc]\n",
    "})\n",
    "\n",
    "models.sort_values(by = 'Score', ascending = False)"
   ]
  },
  {
   "cell_type": "markdown",
   "id": "celtic-trust",
   "metadata": {
    "papermill": {
     "duration": 0.115709,
     "end_time": "2021-05-27T10:18:47.454647",
     "exception": false,
     "start_time": "2021-05-27T10:18:47.338938",
     "status": "completed"
    },
    "tags": []
   },
   "source": [
    "### Best model for diagnosing breast cancer is \"Gradient Boosting Classifier\" with an accuracy of 98.8%."
   ]
  },
  {
   "cell_type": "markdown",
   "id": "aware-turkish",
   "metadata": {
    "papermill": {
     "duration": 0.115612,
     "end_time": "2021-05-27T10:18:47.686069",
     "exception": false,
     "start_time": "2021-05-27T10:18:47.570457",
     "status": "completed"
    },
    "tags": []
   },
   "source": [
    "## If you like my work, please do a upvote."
   ]
  }
 ],
 "metadata": {
  "kernelspec": {
   "display_name": "Python 3 (ipykernel)",
   "language": "python",
   "name": "python3"
  },
  "language_info": {
   "codemirror_mode": {
    "name": "ipython",
    "version": 3
   },
   "file_extension": ".py",
   "mimetype": "text/x-python",
   "name": "python",
   "nbconvert_exporter": "python",
   "pygments_lexer": "ipython3",
   "version": "3.9.12"
  },
  "papermill": {
   "default_parameters": {},
   "duration": 139.152124,
   "end_time": "2021-05-27T10:18:49.215547",
   "environment_variables": {},
   "exception": null,
   "input_path": "__notebook__.ipynb",
   "output_path": "__notebook__.ipynb",
   "parameters": {},
   "start_time": "2021-05-27T10:16:30.063423",
   "version": "2.3.3"
  }
 },
 "nbformat": 4,
 "nbformat_minor": 5
}
